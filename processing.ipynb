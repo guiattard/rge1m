{
 "cells": [
  {
   "cell_type": "markdown",
   "metadata": {},
   "source": [
    "# processing RGE_ALTI"
   ]
  },
  {
   "cell_type": "code",
   "execution_count": 13,
   "metadata": {},
   "outputs": [],
   "source": [
    "import os\n",
    "import shutil"
   ]
  },
  {
   "cell_type": "code",
   "execution_count": 14,
   "metadata": {},
   "outputs": [],
   "source": [
    "full_rge_path = \"/mnt/d/rge-1m/\"\n",
    "local_7z_path = \"./data/temp7z/\""
   ]
  },
  {
   "cell_type": "markdown",
   "metadata": {},
   "source": [
    "#### Get paths of all raw 7z files:"
   ]
  },
  {
   "cell_type": "code",
   "execution_count": 12,
   "metadata": {},
   "outputs": [
    {
     "data": {
      "text/plain": [
       "['/mnt/d/rge-1m/AURA/RGEALTI_2-0_1M_ASC_LAMB93-IGN69_D001_2020-11-13.7z',\n",
       " '/mnt/d/rge-1m/AURA/RGEALTI_2-0_1M_ASC_LAMB93-IGN69_D003_2021-08-25.7z',\n",
       " '/mnt/d/rge-1m/AURA/RGEALTI_2-0_1M_ASC_LAMB93-IGN69_D007_2021-11-02.7z',\n",
       " '/mnt/d/rge-1m/AURA/RGEALTI_2-0_1M_ASC_LAMB93-IGN69_D015_2019-12-10.7z',\n",
       " '/mnt/d/rge-1m/AURA/RGEALTI_2-0_1M_ASC_LAMB93-IGN69_D026_2021-11-02.7z']"
      ]
     },
     "execution_count": 12,
     "metadata": {},
     "output_type": "execute_result"
    }
   ],
   "source": [
    "rge_7z_paths = []\n",
    "for root, dirs, files in os.walk(full_rge_path):\n",
    "    for file in files:\n",
    "        if \".7z\" in file:\n",
    "            rge_7z_paths.append(os.path.join(root, file))\n",
    "rge_7z_paths[:5]"
   ]
  },
  {
   "cell_type": "markdown",
   "metadata": {},
   "source": [
    "#### Copy dataset on local env"
   ]
  },
  {
   "cell_type": "code",
   "execution_count": 16,
   "metadata": {},
   "outputs": [
    {
     "data": {
      "text/plain": [
       "'./data/temp7z/RGEALTI_2-0_1M_ASC_LAMB93-IGN69_D001_2020-11-13.7z'"
      ]
     },
     "execution_count": 16,
     "metadata": {},
     "output_type": "execute_result"
    }
   ],
   "source": [
    "raw_7z_path = rge_7z_paths[0]\n",
    "loc_7z_path = os.path.join(local_7z_path, os.path.basename(raw_7z_path))\n",
    "#shutil.copyfile(raw_7z_path, loc_7z_path)"
   ]
  },
  {
   "cell_type": "markdown",
   "metadata": {},
   "source": [
    "#### Extract the content"
   ]
  },
  {
   "cell_type": "code",
   "execution_count": null,
   "metadata": {},
   "outputs": [],
   "source": [
    "def extract_rge(filename):\n",
    "    \"\"\"\n",
    "    Extracts the zip DEM.\n",
    "    \"\"\"\n",
    "    zipfile_path = os.path.join(TEMP_ZIP, filename)\n",
    "    os.makedirs(EXTRACTION_PATH, exist_ok = True)\n",
    "    with py7zr.SevenZipFile(zipfile_path, mode='r') as archive:\n",
    "        archive.extractall(path=EXTRACTION_PATH) #WIN: check the path lenght in case of error FileNotFound\n",
    "    print(f\"{zipfile_path} is extracted to {EXTRACTION_PATH}.\")\n"
   ]
  }
 ],
 "metadata": {
  "kernelspec": {
   "display_name": "venv-rge",
   "language": "python",
   "name": "venv-rge"
  },
  "language_info": {
   "codemirror_mode": {
    "name": "ipython",
    "version": 3
   },
   "file_extension": ".py",
   "mimetype": "text/x-python",
   "name": "python",
   "nbconvert_exporter": "python",
   "pygments_lexer": "ipython3",
   "version": "3.9.13"
  },
  "orig_nbformat": 4
 },
 "nbformat": 4,
 "nbformat_minor": 2
}
