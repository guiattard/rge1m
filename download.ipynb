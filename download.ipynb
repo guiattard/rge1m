{
 "cells": [
  {
   "cell_type": "code",
   "execution_count": 1,
   "metadata": {},
   "outputs": [],
   "source": [
    "import pandas as pd\n",
    "import numpy as np\n",
    "from process import *"
   ]
  },
  {
   "cell_type": "code",
   "execution_count": 2,
   "metadata": {},
   "outputs": [],
   "source": [
    "# Instantiate helper\n",
    "ftp_h = FTPHelper(URL, USERNAME, PASSWORD)"
   ]
  },
  {
   "cell_type": "code",
   "execution_count": 3,
   "metadata": {},
   "outputs": [
    {
     "data": {
      "text/html": [
       "<div>\n",
       "<style scoped>\n",
       "    .dataframe tbody tr th:only-of-type {\n",
       "        vertical-align: middle;\n",
       "    }\n",
       "\n",
       "    .dataframe tbody tr th {\n",
       "        vertical-align: top;\n",
       "    }\n",
       "\n",
       "    .dataframe thead th {\n",
       "        text-align: right;\n",
       "    }\n",
       "</style>\n",
       "<table border=\"1\" class=\"dataframe\">\n",
       "  <thead>\n",
       "    <tr style=\"text-align: right;\">\n",
       "      <th></th>\n",
       "      <th>dataset</th>\n",
       "      <th>version</th>\n",
       "      <th>res</th>\n",
       "      <th>filetype</th>\n",
       "      <th>crs</th>\n",
       "      <th>dep</th>\n",
       "      <th>date</th>\n",
       "    </tr>\n",
       "    <tr>\n",
       "      <th>name</th>\n",
       "      <th></th>\n",
       "      <th></th>\n",
       "      <th></th>\n",
       "      <th></th>\n",
       "      <th></th>\n",
       "      <th></th>\n",
       "      <th></th>\n",
       "    </tr>\n",
       "  </thead>\n",
       "  <tbody>\n",
       "    <tr>\n",
       "      <th>RGEALTI_2-0_1M_ASC_LAMB93-IGN69_D001_2020-11-13.7z</th>\n",
       "      <td>RGEALTI</td>\n",
       "      <td>2-0</td>\n",
       "      <td>1M</td>\n",
       "      <td>ASC</td>\n",
       "      <td>LAMB93-IGN69</td>\n",
       "      <td>D001</td>\n",
       "      <td>2020-11-13</td>\n",
       "    </tr>\n",
       "    <tr>\n",
       "      <th>RGEALTI_2-0_1M_ASC_LAMB93-IGN69_D002_2020-09-04.7z</th>\n",
       "      <td>RGEALTI</td>\n",
       "      <td>2-0</td>\n",
       "      <td>1M</td>\n",
       "      <td>ASC</td>\n",
       "      <td>LAMB93-IGN69</td>\n",
       "      <td>D002</td>\n",
       "      <td>2020-09-04</td>\n",
       "    </tr>\n",
       "    <tr>\n",
       "      <th>RGEALTI_2-0_1M_ASC_LAMB93-IGN69_D003_2021-08-25.7z</th>\n",
       "      <td>RGEALTI</td>\n",
       "      <td>2-0</td>\n",
       "      <td>1M</td>\n",
       "      <td>ASC</td>\n",
       "      <td>LAMB93-IGN69</td>\n",
       "      <td>D003</td>\n",
       "      <td>2021-08-25</td>\n",
       "    </tr>\n",
       "    <tr>\n",
       "      <th>RGEALTI_2-0_1M_ASC_LAMB93-IGN69_D004_2021-08-04.7z.001</th>\n",
       "      <td>RGEALTI</td>\n",
       "      <td>2-0</td>\n",
       "      <td>1M</td>\n",
       "      <td>ASC</td>\n",
       "      <td>LAMB93-IGN69</td>\n",
       "      <td>D004</td>\n",
       "      <td>2021-08-04.7z.</td>\n",
       "    </tr>\n",
       "    <tr>\n",
       "      <th>RGEALTI_2-0_1M_ASC_LAMB93-IGN69_D004_2021-08-04.7z.002</th>\n",
       "      <td>RGEALTI</td>\n",
       "      <td>2-0</td>\n",
       "      <td>1M</td>\n",
       "      <td>ASC</td>\n",
       "      <td>LAMB93-IGN69</td>\n",
       "      <td>D004</td>\n",
       "      <td>2021-08-04.7z.</td>\n",
       "    </tr>\n",
       "    <tr>\n",
       "      <th>...</th>\n",
       "      <td>...</td>\n",
       "      <td>...</td>\n",
       "      <td>...</td>\n",
       "      <td>...</td>\n",
       "      <td>...</td>\n",
       "      <td>...</td>\n",
       "      <td>...</td>\n",
       "    </tr>\n",
       "    <tr>\n",
       "      <th>RGEALTI_2-0_1M_ASC_RGR92UTM40S-REUN89_D974_2016-03-11.7z</th>\n",
       "      <td>RGEALTI</td>\n",
       "      <td>2-0</td>\n",
       "      <td>1M</td>\n",
       "      <td>ASC</td>\n",
       "      <td>RGR92UTM40S-REUN89</td>\n",
       "      <td>D974</td>\n",
       "      <td>2016-03-11</td>\n",
       "    </tr>\n",
       "    <tr>\n",
       "      <th>RGEALTI_2-0_1M_ASC_RGSPM06U21-STPM50_D975_2017-03-27.7z</th>\n",
       "      <td>RGEALTI</td>\n",
       "      <td>2-0</td>\n",
       "      <td>1M</td>\n",
       "      <td>ASC</td>\n",
       "      <td>RGSPM06U21-STPM50</td>\n",
       "      <td>D975</td>\n",
       "      <td>2017-03-27</td>\n",
       "    </tr>\n",
       "    <tr>\n",
       "      <th>RGEALTI_2-0_1M_ASC_WGS84UTM20-GUAD88_D971_2014-01-15.7z</th>\n",
       "      <td>RGEALTI</td>\n",
       "      <td>2-0</td>\n",
       "      <td>1M</td>\n",
       "      <td>ASC</td>\n",
       "      <td>WGS84UTM20-GUAD88</td>\n",
       "      <td>D971</td>\n",
       "      <td>2014-01-15</td>\n",
       "    </tr>\n",
       "    <tr>\n",
       "      <th>RGEALTI_2-0_1M_ASC_WGS84UTM20-GUAD92LD_D971_2013-12-11.7z</th>\n",
       "      <td>RGEALTI</td>\n",
       "      <td>2-0</td>\n",
       "      <td>1M</td>\n",
       "      <td>ASC</td>\n",
       "      <td>WGS84UTM20-GUAD92LD</td>\n",
       "      <td>D971</td>\n",
       "      <td>2013-12-11</td>\n",
       "    </tr>\n",
       "    <tr>\n",
       "      <th>RGEALTI_2-0_1M_ASC_WGS84UTM20-MART87_D972_2015-10-21.7z</th>\n",
       "      <td>RGEALTI</td>\n",
       "      <td>2-0</td>\n",
       "      <td>1M</td>\n",
       "      <td>ASC</td>\n",
       "      <td>WGS84UTM20-MART87</td>\n",
       "      <td>D972</td>\n",
       "      <td>2015-10-21</td>\n",
       "    </tr>\n",
       "  </tbody>\n",
       "</table>\n",
       "<p>140 rows × 7 columns</p>\n",
       "</div>"
      ],
      "text/plain": [
       "                                                    dataset version res  \\\n",
       "name                                                                      \n",
       "RGEALTI_2-0_1M_ASC_LAMB93-IGN69_D001_2020-11-13.7z  RGEALTI     2-0  1M   \n",
       "RGEALTI_2-0_1M_ASC_LAMB93-IGN69_D002_2020-09-04.7z  RGEALTI     2-0  1M   \n",
       "RGEALTI_2-0_1M_ASC_LAMB93-IGN69_D003_2021-08-25.7z  RGEALTI     2-0  1M   \n",
       "RGEALTI_2-0_1M_ASC_LAMB93-IGN69_D004_2021-08-04...  RGEALTI     2-0  1M   \n",
       "RGEALTI_2-0_1M_ASC_LAMB93-IGN69_D004_2021-08-04...  RGEALTI     2-0  1M   \n",
       "...                                                     ...     ...  ..   \n",
       "RGEALTI_2-0_1M_ASC_RGR92UTM40S-REUN89_D974_2016...  RGEALTI     2-0  1M   \n",
       "RGEALTI_2-0_1M_ASC_RGSPM06U21-STPM50_D975_2017-...  RGEALTI     2-0  1M   \n",
       "RGEALTI_2-0_1M_ASC_WGS84UTM20-GUAD88_D971_2014-...  RGEALTI     2-0  1M   \n",
       "RGEALTI_2-0_1M_ASC_WGS84UTM20-GUAD92LD_D971_201...  RGEALTI     2-0  1M   \n",
       "RGEALTI_2-0_1M_ASC_WGS84UTM20-MART87_D972_2015-...  RGEALTI     2-0  1M   \n",
       "\n",
       "                                                   filetype  \\\n",
       "name                                                          \n",
       "RGEALTI_2-0_1M_ASC_LAMB93-IGN69_D001_2020-11-13.7z      ASC   \n",
       "RGEALTI_2-0_1M_ASC_LAMB93-IGN69_D002_2020-09-04.7z      ASC   \n",
       "RGEALTI_2-0_1M_ASC_LAMB93-IGN69_D003_2021-08-25.7z      ASC   \n",
       "RGEALTI_2-0_1M_ASC_LAMB93-IGN69_D004_2021-08-04...      ASC   \n",
       "RGEALTI_2-0_1M_ASC_LAMB93-IGN69_D004_2021-08-04...      ASC   \n",
       "...                                                     ...   \n",
       "RGEALTI_2-0_1M_ASC_RGR92UTM40S-REUN89_D974_2016...      ASC   \n",
       "RGEALTI_2-0_1M_ASC_RGSPM06U21-STPM50_D975_2017-...      ASC   \n",
       "RGEALTI_2-0_1M_ASC_WGS84UTM20-GUAD88_D971_2014-...      ASC   \n",
       "RGEALTI_2-0_1M_ASC_WGS84UTM20-GUAD92LD_D971_201...      ASC   \n",
       "RGEALTI_2-0_1M_ASC_WGS84UTM20-MART87_D972_2015-...      ASC   \n",
       "\n",
       "                                                                    crs   dep  \\\n",
       "name                                                                            \n",
       "RGEALTI_2-0_1M_ASC_LAMB93-IGN69_D001_2020-11-13.7z         LAMB93-IGN69  D001   \n",
       "RGEALTI_2-0_1M_ASC_LAMB93-IGN69_D002_2020-09-04.7z         LAMB93-IGN69  D002   \n",
       "RGEALTI_2-0_1M_ASC_LAMB93-IGN69_D003_2021-08-25.7z         LAMB93-IGN69  D003   \n",
       "RGEALTI_2-0_1M_ASC_LAMB93-IGN69_D004_2021-08-04...         LAMB93-IGN69  D004   \n",
       "RGEALTI_2-0_1M_ASC_LAMB93-IGN69_D004_2021-08-04...         LAMB93-IGN69  D004   \n",
       "...                                                                 ...   ...   \n",
       "RGEALTI_2-0_1M_ASC_RGR92UTM40S-REUN89_D974_2016...   RGR92UTM40S-REUN89  D974   \n",
       "RGEALTI_2-0_1M_ASC_RGSPM06U21-STPM50_D975_2017-...    RGSPM06U21-STPM50  D975   \n",
       "RGEALTI_2-0_1M_ASC_WGS84UTM20-GUAD88_D971_2014-...    WGS84UTM20-GUAD88  D971   \n",
       "RGEALTI_2-0_1M_ASC_WGS84UTM20-GUAD92LD_D971_201...  WGS84UTM20-GUAD92LD  D971   \n",
       "RGEALTI_2-0_1M_ASC_WGS84UTM20-MART87_D972_2015-...    WGS84UTM20-MART87  D972   \n",
       "\n",
       "                                                              date  \n",
       "name                                                                \n",
       "RGEALTI_2-0_1M_ASC_LAMB93-IGN69_D001_2020-11-13.7z      2020-11-13  \n",
       "RGEALTI_2-0_1M_ASC_LAMB93-IGN69_D002_2020-09-04.7z      2020-09-04  \n",
       "RGEALTI_2-0_1M_ASC_LAMB93-IGN69_D003_2021-08-25.7z      2021-08-25  \n",
       "RGEALTI_2-0_1M_ASC_LAMB93-IGN69_D004_2021-08-04...  2021-08-04.7z.  \n",
       "RGEALTI_2-0_1M_ASC_LAMB93-IGN69_D004_2021-08-04...  2021-08-04.7z.  \n",
       "...                                                            ...  \n",
       "RGEALTI_2-0_1M_ASC_RGR92UTM40S-REUN89_D974_2016...      2016-03-11  \n",
       "RGEALTI_2-0_1M_ASC_RGSPM06U21-STPM50_D975_2017-...      2017-03-27  \n",
       "RGEALTI_2-0_1M_ASC_WGS84UTM20-GUAD88_D971_2014-...      2014-01-15  \n",
       "RGEALTI_2-0_1M_ASC_WGS84UTM20-GUAD92LD_D971_201...      2013-12-11  \n",
       "RGEALTI_2-0_1M_ASC_WGS84UTM20-MART87_D972_2015-...      2015-10-21  \n",
       "\n",
       "[140 rows x 7 columns]"
      ]
     },
     "execution_count": 3,
     "metadata": {},
     "output_type": "execute_result"
    }
   ],
   "source": [
    "# Create a pandas.df to store the list of available files.\n",
    "df = pd.DataFrame(data=ftp_h.list_files(), columns=[\"name\"])\n",
    "\n",
    "# Rearrange the content of the pandas df.\n",
    "df = pd.concat([df, df[\"name\"].str.split(\"_\", expand=True)], axis=1)\n",
    "df = df.rename(columns = {\n",
    "    0:\"dataset\", 1:\"version\", 2:\"res\", 3:\"filetype\", 4:\"crs\", \n",
    "    5:\"dep\", 6:\"date\"})\n",
    "\n",
    "# Loc the dataset of interest RGE Alti 5m.\n",
    "df = df.loc[(df.dataset == \"RGEALTI\") & (df.res == \"1M\")]\n",
    "\n",
    "# Clean the date and set the name as index.\n",
    "df['date'] = df['date'].apply(lambda x:x[:-3])\n",
    "df = df.set_index(\"name\")\n",
    "\n",
    "df"
   ]
  },
  {
   "cell_type": "code",
   "execution_count": 11,
   "metadata": {},
   "outputs": [
    {
     "data": {
      "text/html": [
       "<div>\n",
       "<style scoped>\n",
       "    .dataframe tbody tr th:only-of-type {\n",
       "        vertical-align: middle;\n",
       "    }\n",
       "\n",
       "    .dataframe tbody tr th {\n",
       "        vertical-align: top;\n",
       "    }\n",
       "\n",
       "    .dataframe thead th {\n",
       "        text-align: right;\n",
       "    }\n",
       "</style>\n",
       "<table border=\"1\" class=\"dataframe\">\n",
       "  <thead>\n",
       "    <tr style=\"text-align: right;\">\n",
       "      <th></th>\n",
       "      <th>dataset</th>\n",
       "      <th>version</th>\n",
       "      <th>res</th>\n",
       "      <th>filetype</th>\n",
       "      <th>crs</th>\n",
       "      <th>dep</th>\n",
       "      <th>date</th>\n",
       "    </tr>\n",
       "    <tr>\n",
       "      <th>name</th>\n",
       "      <th></th>\n",
       "      <th></th>\n",
       "      <th></th>\n",
       "      <th></th>\n",
       "      <th></th>\n",
       "      <th></th>\n",
       "      <th></th>\n",
       "    </tr>\n",
       "  </thead>\n",
       "  <tbody>\n",
       "    <tr>\n",
       "      <th>RGEALTI_2-0_1M_ASC_RGFG95UTM22-GUYA77_D973-NE_2021-03-04.7z.001</th>\n",
       "      <td>RGEALTI</td>\n",
       "      <td>2-0</td>\n",
       "      <td>1M</td>\n",
       "      <td>ASC</td>\n",
       "      <td>RGFG95UTM22-GUYA77</td>\n",
       "      <td>D973-NE</td>\n",
       "      <td>2021-03-04.7z.</td>\n",
       "    </tr>\n",
       "    <tr>\n",
       "      <th>RGEALTI_2-0_1M_ASC_RGFG95UTM22-GUYA77_D973-NE_2021-03-04.7z.002</th>\n",
       "      <td>RGEALTI</td>\n",
       "      <td>2-0</td>\n",
       "      <td>1M</td>\n",
       "      <td>ASC</td>\n",
       "      <td>RGFG95UTM22-GUYA77</td>\n",
       "      <td>D973-NE</td>\n",
       "      <td>2021-03-04.7z.</td>\n",
       "    </tr>\n",
       "    <tr>\n",
       "      <th>RGEALTI_2-0_1M_ASC_RGFG95UTM22-GUYA77_D973-NE_2021-03-04.7z.003</th>\n",
       "      <td>RGEALTI</td>\n",
       "      <td>2-0</td>\n",
       "      <td>1M</td>\n",
       "      <td>ASC</td>\n",
       "      <td>RGFG95UTM22-GUYA77</td>\n",
       "      <td>D973-NE</td>\n",
       "      <td>2021-03-04.7z.</td>\n",
       "    </tr>\n",
       "    <tr>\n",
       "      <th>RGEALTI_2-0_1M_ASC_RGFG95UTM22-GUYA77_D973-NE_2021-03-04.7z.004</th>\n",
       "      <td>RGEALTI</td>\n",
       "      <td>2-0</td>\n",
       "      <td>1M</td>\n",
       "      <td>ASC</td>\n",
       "      <td>RGFG95UTM22-GUYA77</td>\n",
       "      <td>D973-NE</td>\n",
       "      <td>2021-03-04.7z.</td>\n",
       "    </tr>\n",
       "    <tr>\n",
       "      <th>RGEALTI_2-0_1M_ASC_RGFG95UTM22-GUYA77_D973-NE_2021-03-04.7z.005</th>\n",
       "      <td>RGEALTI</td>\n",
       "      <td>2-0</td>\n",
       "      <td>1M</td>\n",
       "      <td>ASC</td>\n",
       "      <td>RGFG95UTM22-GUYA77</td>\n",
       "      <td>D973-NE</td>\n",
       "      <td>2021-03-04.7z.</td>\n",
       "    </tr>\n",
       "    <tr>\n",
       "      <th>RGEALTI_2-0_1M_ASC_RGFG95UTM22-GUYA77_D973-NE_2021-03-04.7z.006</th>\n",
       "      <td>RGEALTI</td>\n",
       "      <td>2-0</td>\n",
       "      <td>1M</td>\n",
       "      <td>ASC</td>\n",
       "      <td>RGFG95UTM22-GUYA77</td>\n",
       "      <td>D973-NE</td>\n",
       "      <td>2021-03-04.7z.</td>\n",
       "    </tr>\n",
       "    <tr>\n",
       "      <th>RGEALTI_2-0_1M_ASC_RGFG95UTM22-GUYA77_D973-NO_2021-03-04.7z.001</th>\n",
       "      <td>RGEALTI</td>\n",
       "      <td>2-0</td>\n",
       "      <td>1M</td>\n",
       "      <td>ASC</td>\n",
       "      <td>RGFG95UTM22-GUYA77</td>\n",
       "      <td>D973-NO</td>\n",
       "      <td>2021-03-04.7z.</td>\n",
       "    </tr>\n",
       "    <tr>\n",
       "      <th>RGEALTI_2-0_1M_ASC_RGFG95UTM22-GUYA77_D973-NO_2021-03-04.7z.002</th>\n",
       "      <td>RGEALTI</td>\n",
       "      <td>2-0</td>\n",
       "      <td>1M</td>\n",
       "      <td>ASC</td>\n",
       "      <td>RGFG95UTM22-GUYA77</td>\n",
       "      <td>D973-NO</td>\n",
       "      <td>2021-03-04.7z.</td>\n",
       "    </tr>\n",
       "    <tr>\n",
       "      <th>RGEALTI_2-0_1M_ASC_RGFG95UTM22-GUYA77_D973-NO_2021-03-04.7z.003</th>\n",
       "      <td>RGEALTI</td>\n",
       "      <td>2-0</td>\n",
       "      <td>1M</td>\n",
       "      <td>ASC</td>\n",
       "      <td>RGFG95UTM22-GUYA77</td>\n",
       "      <td>D973-NO</td>\n",
       "      <td>2021-03-04.7z.</td>\n",
       "    </tr>\n",
       "    <tr>\n",
       "      <th>RGEALTI_2-0_1M_ASC_RGFG95UTM22-GUYA77_D973-NO_2021-03-04.7z.004</th>\n",
       "      <td>RGEALTI</td>\n",
       "      <td>2-0</td>\n",
       "      <td>1M</td>\n",
       "      <td>ASC</td>\n",
       "      <td>RGFG95UTM22-GUYA77</td>\n",
       "      <td>D973-NO</td>\n",
       "      <td>2021-03-04.7z.</td>\n",
       "    </tr>\n",
       "    <tr>\n",
       "      <th>RGEALTI_2-0_1M_ASC_RGFG95UTM22-GUYA77_D973-NO_2021-03-04.7z.005</th>\n",
       "      <td>RGEALTI</td>\n",
       "      <td>2-0</td>\n",
       "      <td>1M</td>\n",
       "      <td>ASC</td>\n",
       "      <td>RGFG95UTM22-GUYA77</td>\n",
       "      <td>D973-NO</td>\n",
       "      <td>2021-03-04.7z.</td>\n",
       "    </tr>\n",
       "    <tr>\n",
       "      <th>RGEALTI_2-0_1M_ASC_RGFG95UTM22-GUYA77_D973-NO_2021-03-04.7z.006</th>\n",
       "      <td>RGEALTI</td>\n",
       "      <td>2-0</td>\n",
       "      <td>1M</td>\n",
       "      <td>ASC</td>\n",
       "      <td>RGFG95UTM22-GUYA77</td>\n",
       "      <td>D973-NO</td>\n",
       "      <td>2021-03-04.7z.</td>\n",
       "    </tr>\n",
       "    <tr>\n",
       "      <th>RGEALTI_2-0_1M_ASC_RGFG95UTM22-GUYA77_D973-NO_2021-03-04.7z.007</th>\n",
       "      <td>RGEALTI</td>\n",
       "      <td>2-0</td>\n",
       "      <td>1M</td>\n",
       "      <td>ASC</td>\n",
       "      <td>RGFG95UTM22-GUYA77</td>\n",
       "      <td>D973-NO</td>\n",
       "      <td>2021-03-04.7z.</td>\n",
       "    </tr>\n",
       "    <tr>\n",
       "      <th>RGEALTI_2-0_1M_ASC_RGFG95UTM22-GUYA77_D973-SE_2021-03-04.7z.001</th>\n",
       "      <td>RGEALTI</td>\n",
       "      <td>2-0</td>\n",
       "      <td>1M</td>\n",
       "      <td>ASC</td>\n",
       "      <td>RGFG95UTM22-GUYA77</td>\n",
       "      <td>D973-SE</td>\n",
       "      <td>2021-03-04.7z.</td>\n",
       "    </tr>\n",
       "    <tr>\n",
       "      <th>RGEALTI_2-0_1M_ASC_RGFG95UTM22-GUYA77_D973-SE_2021-03-04.7z.002</th>\n",
       "      <td>RGEALTI</td>\n",
       "      <td>2-0</td>\n",
       "      <td>1M</td>\n",
       "      <td>ASC</td>\n",
       "      <td>RGFG95UTM22-GUYA77</td>\n",
       "      <td>D973-SE</td>\n",
       "      <td>2021-03-04.7z.</td>\n",
       "    </tr>\n",
       "    <tr>\n",
       "      <th>RGEALTI_2-0_1M_ASC_RGFG95UTM22-GUYA77_D973-SE_2021-03-04.7z.003</th>\n",
       "      <td>RGEALTI</td>\n",
       "      <td>2-0</td>\n",
       "      <td>1M</td>\n",
       "      <td>ASC</td>\n",
       "      <td>RGFG95UTM22-GUYA77</td>\n",
       "      <td>D973-SE</td>\n",
       "      <td>2021-03-04.7z.</td>\n",
       "    </tr>\n",
       "    <tr>\n",
       "      <th>RGEALTI_2-0_1M_ASC_RGFG95UTM22-GUYA77_D973-SE_2021-03-04.7z.004</th>\n",
       "      <td>RGEALTI</td>\n",
       "      <td>2-0</td>\n",
       "      <td>1M</td>\n",
       "      <td>ASC</td>\n",
       "      <td>RGFG95UTM22-GUYA77</td>\n",
       "      <td>D973-SE</td>\n",
       "      <td>2021-03-04.7z.</td>\n",
       "    </tr>\n",
       "    <tr>\n",
       "      <th>RGEALTI_2-0_1M_ASC_RGFG95UTM22-GUYA77_D973-SE_2021-03-04.7z.005</th>\n",
       "      <td>RGEALTI</td>\n",
       "      <td>2-0</td>\n",
       "      <td>1M</td>\n",
       "      <td>ASC</td>\n",
       "      <td>RGFG95UTM22-GUYA77</td>\n",
       "      <td>D973-SE</td>\n",
       "      <td>2021-03-04.7z.</td>\n",
       "    </tr>\n",
       "    <tr>\n",
       "      <th>RGEALTI_2-0_1M_ASC_RGFG95UTM22-GUYA77_D973-SE_2021-03-04.7z.006</th>\n",
       "      <td>RGEALTI</td>\n",
       "      <td>2-0</td>\n",
       "      <td>1M</td>\n",
       "      <td>ASC</td>\n",
       "      <td>RGFG95UTM22-GUYA77</td>\n",
       "      <td>D973-SE</td>\n",
       "      <td>2021-03-04.7z.</td>\n",
       "    </tr>\n",
       "    <tr>\n",
       "      <th>RGEALTI_2-0_1M_ASC_RGFG95UTM22-GUYA77_D973-SE_2021-03-04.7z.007</th>\n",
       "      <td>RGEALTI</td>\n",
       "      <td>2-0</td>\n",
       "      <td>1M</td>\n",
       "      <td>ASC</td>\n",
       "      <td>RGFG95UTM22-GUYA77</td>\n",
       "      <td>D973-SE</td>\n",
       "      <td>2021-03-04.7z.</td>\n",
       "    </tr>\n",
       "    <tr>\n",
       "      <th>RGEALTI_2-0_1M_ASC_RGFG95UTM22-GUYA77_D973-SO_2021-03-04.7z.001</th>\n",
       "      <td>RGEALTI</td>\n",
       "      <td>2-0</td>\n",
       "      <td>1M</td>\n",
       "      <td>ASC</td>\n",
       "      <td>RGFG95UTM22-GUYA77</td>\n",
       "      <td>D973-SO</td>\n",
       "      <td>2021-03-04.7z.</td>\n",
       "    </tr>\n",
       "    <tr>\n",
       "      <th>RGEALTI_2-0_1M_ASC_RGFG95UTM22-GUYA77_D973-SO_2021-03-04.7z.002</th>\n",
       "      <td>RGEALTI</td>\n",
       "      <td>2-0</td>\n",
       "      <td>1M</td>\n",
       "      <td>ASC</td>\n",
       "      <td>RGFG95UTM22-GUYA77</td>\n",
       "      <td>D973-SO</td>\n",
       "      <td>2021-03-04.7z.</td>\n",
       "    </tr>\n",
       "    <tr>\n",
       "      <th>RGEALTI_2-0_1M_ASC_RGFG95UTM22-GUYA77_D973-SO_2021-03-04.7z.003</th>\n",
       "      <td>RGEALTI</td>\n",
       "      <td>2-0</td>\n",
       "      <td>1M</td>\n",
       "      <td>ASC</td>\n",
       "      <td>RGFG95UTM22-GUYA77</td>\n",
       "      <td>D973-SO</td>\n",
       "      <td>2021-03-04.7z.</td>\n",
       "    </tr>\n",
       "    <tr>\n",
       "      <th>RGEALTI_2-0_1M_ASC_RGFG95UTM22-GUYA77_D973-SO_2021-03-04.7z.004</th>\n",
       "      <td>RGEALTI</td>\n",
       "      <td>2-0</td>\n",
       "      <td>1M</td>\n",
       "      <td>ASC</td>\n",
       "      <td>RGFG95UTM22-GUYA77</td>\n",
       "      <td>D973-SO</td>\n",
       "      <td>2021-03-04.7z.</td>\n",
       "    </tr>\n",
       "    <tr>\n",
       "      <th>RGEALTI_2-0_1M_ASC_RGFG95UTM22-GUYA77_D973-SO_2021-03-04.7z.005</th>\n",
       "      <td>RGEALTI</td>\n",
       "      <td>2-0</td>\n",
       "      <td>1M</td>\n",
       "      <td>ASC</td>\n",
       "      <td>RGFG95UTM22-GUYA77</td>\n",
       "      <td>D973-SO</td>\n",
       "      <td>2021-03-04.7z.</td>\n",
       "    </tr>\n",
       "    <tr>\n",
       "      <th>RGEALTI_2-0_1M_ASC_RGFG95UTM22-GUYA77_D973-SO_2021-03-04.7z.006</th>\n",
       "      <td>RGEALTI</td>\n",
       "      <td>2-0</td>\n",
       "      <td>1M</td>\n",
       "      <td>ASC</td>\n",
       "      <td>RGFG95UTM22-GUYA77</td>\n",
       "      <td>D973-SO</td>\n",
       "      <td>2021-03-04.7z.</td>\n",
       "    </tr>\n",
       "    <tr>\n",
       "      <th>RGEALTI_2-0_1M_ASC_RGFG95UTM22-GUYA77_D973-SO_2021-03-04.7z.007</th>\n",
       "      <td>RGEALTI</td>\n",
       "      <td>2-0</td>\n",
       "      <td>1M</td>\n",
       "      <td>ASC</td>\n",
       "      <td>RGFG95UTM22-GUYA77</td>\n",
       "      <td>D973-SO</td>\n",
       "      <td>2021-03-04.7z.</td>\n",
       "    </tr>\n",
       "  </tbody>\n",
       "</table>\n",
       "</div>"
      ],
      "text/plain": [
       "                                                    dataset version res  \\\n",
       "name                                                                      \n",
       "RGEALTI_2-0_1M_ASC_RGFG95UTM22-GUYA77_D973-NE_2...  RGEALTI     2-0  1M   \n",
       "RGEALTI_2-0_1M_ASC_RGFG95UTM22-GUYA77_D973-NE_2...  RGEALTI     2-0  1M   \n",
       "RGEALTI_2-0_1M_ASC_RGFG95UTM22-GUYA77_D973-NE_2...  RGEALTI     2-0  1M   \n",
       "RGEALTI_2-0_1M_ASC_RGFG95UTM22-GUYA77_D973-NE_2...  RGEALTI     2-0  1M   \n",
       "RGEALTI_2-0_1M_ASC_RGFG95UTM22-GUYA77_D973-NE_2...  RGEALTI     2-0  1M   \n",
       "RGEALTI_2-0_1M_ASC_RGFG95UTM22-GUYA77_D973-NE_2...  RGEALTI     2-0  1M   \n",
       "RGEALTI_2-0_1M_ASC_RGFG95UTM22-GUYA77_D973-NO_2...  RGEALTI     2-0  1M   \n",
       "RGEALTI_2-0_1M_ASC_RGFG95UTM22-GUYA77_D973-NO_2...  RGEALTI     2-0  1M   \n",
       "RGEALTI_2-0_1M_ASC_RGFG95UTM22-GUYA77_D973-NO_2...  RGEALTI     2-0  1M   \n",
       "RGEALTI_2-0_1M_ASC_RGFG95UTM22-GUYA77_D973-NO_2...  RGEALTI     2-0  1M   \n",
       "RGEALTI_2-0_1M_ASC_RGFG95UTM22-GUYA77_D973-NO_2...  RGEALTI     2-0  1M   \n",
       "RGEALTI_2-0_1M_ASC_RGFG95UTM22-GUYA77_D973-NO_2...  RGEALTI     2-0  1M   \n",
       "RGEALTI_2-0_1M_ASC_RGFG95UTM22-GUYA77_D973-NO_2...  RGEALTI     2-0  1M   \n",
       "RGEALTI_2-0_1M_ASC_RGFG95UTM22-GUYA77_D973-SE_2...  RGEALTI     2-0  1M   \n",
       "RGEALTI_2-0_1M_ASC_RGFG95UTM22-GUYA77_D973-SE_2...  RGEALTI     2-0  1M   \n",
       "RGEALTI_2-0_1M_ASC_RGFG95UTM22-GUYA77_D973-SE_2...  RGEALTI     2-0  1M   \n",
       "RGEALTI_2-0_1M_ASC_RGFG95UTM22-GUYA77_D973-SE_2...  RGEALTI     2-0  1M   \n",
       "RGEALTI_2-0_1M_ASC_RGFG95UTM22-GUYA77_D973-SE_2...  RGEALTI     2-0  1M   \n",
       "RGEALTI_2-0_1M_ASC_RGFG95UTM22-GUYA77_D973-SE_2...  RGEALTI     2-0  1M   \n",
       "RGEALTI_2-0_1M_ASC_RGFG95UTM22-GUYA77_D973-SE_2...  RGEALTI     2-0  1M   \n",
       "RGEALTI_2-0_1M_ASC_RGFG95UTM22-GUYA77_D973-SO_2...  RGEALTI     2-0  1M   \n",
       "RGEALTI_2-0_1M_ASC_RGFG95UTM22-GUYA77_D973-SO_2...  RGEALTI     2-0  1M   \n",
       "RGEALTI_2-0_1M_ASC_RGFG95UTM22-GUYA77_D973-SO_2...  RGEALTI     2-0  1M   \n",
       "RGEALTI_2-0_1M_ASC_RGFG95UTM22-GUYA77_D973-SO_2...  RGEALTI     2-0  1M   \n",
       "RGEALTI_2-0_1M_ASC_RGFG95UTM22-GUYA77_D973-SO_2...  RGEALTI     2-0  1M   \n",
       "RGEALTI_2-0_1M_ASC_RGFG95UTM22-GUYA77_D973-SO_2...  RGEALTI     2-0  1M   \n",
       "RGEALTI_2-0_1M_ASC_RGFG95UTM22-GUYA77_D973-SO_2...  RGEALTI     2-0  1M   \n",
       "\n",
       "                                                   filetype  \\\n",
       "name                                                          \n",
       "RGEALTI_2-0_1M_ASC_RGFG95UTM22-GUYA77_D973-NE_2...      ASC   \n",
       "RGEALTI_2-0_1M_ASC_RGFG95UTM22-GUYA77_D973-NE_2...      ASC   \n",
       "RGEALTI_2-0_1M_ASC_RGFG95UTM22-GUYA77_D973-NE_2...      ASC   \n",
       "RGEALTI_2-0_1M_ASC_RGFG95UTM22-GUYA77_D973-NE_2...      ASC   \n",
       "RGEALTI_2-0_1M_ASC_RGFG95UTM22-GUYA77_D973-NE_2...      ASC   \n",
       "RGEALTI_2-0_1M_ASC_RGFG95UTM22-GUYA77_D973-NE_2...      ASC   \n",
       "RGEALTI_2-0_1M_ASC_RGFG95UTM22-GUYA77_D973-NO_2...      ASC   \n",
       "RGEALTI_2-0_1M_ASC_RGFG95UTM22-GUYA77_D973-NO_2...      ASC   \n",
       "RGEALTI_2-0_1M_ASC_RGFG95UTM22-GUYA77_D973-NO_2...      ASC   \n",
       "RGEALTI_2-0_1M_ASC_RGFG95UTM22-GUYA77_D973-NO_2...      ASC   \n",
       "RGEALTI_2-0_1M_ASC_RGFG95UTM22-GUYA77_D973-NO_2...      ASC   \n",
       "RGEALTI_2-0_1M_ASC_RGFG95UTM22-GUYA77_D973-NO_2...      ASC   \n",
       "RGEALTI_2-0_1M_ASC_RGFG95UTM22-GUYA77_D973-NO_2...      ASC   \n",
       "RGEALTI_2-0_1M_ASC_RGFG95UTM22-GUYA77_D973-SE_2...      ASC   \n",
       "RGEALTI_2-0_1M_ASC_RGFG95UTM22-GUYA77_D973-SE_2...      ASC   \n",
       "RGEALTI_2-0_1M_ASC_RGFG95UTM22-GUYA77_D973-SE_2...      ASC   \n",
       "RGEALTI_2-0_1M_ASC_RGFG95UTM22-GUYA77_D973-SE_2...      ASC   \n",
       "RGEALTI_2-0_1M_ASC_RGFG95UTM22-GUYA77_D973-SE_2...      ASC   \n",
       "RGEALTI_2-0_1M_ASC_RGFG95UTM22-GUYA77_D973-SE_2...      ASC   \n",
       "RGEALTI_2-0_1M_ASC_RGFG95UTM22-GUYA77_D973-SE_2...      ASC   \n",
       "RGEALTI_2-0_1M_ASC_RGFG95UTM22-GUYA77_D973-SO_2...      ASC   \n",
       "RGEALTI_2-0_1M_ASC_RGFG95UTM22-GUYA77_D973-SO_2...      ASC   \n",
       "RGEALTI_2-0_1M_ASC_RGFG95UTM22-GUYA77_D973-SO_2...      ASC   \n",
       "RGEALTI_2-0_1M_ASC_RGFG95UTM22-GUYA77_D973-SO_2...      ASC   \n",
       "RGEALTI_2-0_1M_ASC_RGFG95UTM22-GUYA77_D973-SO_2...      ASC   \n",
       "RGEALTI_2-0_1M_ASC_RGFG95UTM22-GUYA77_D973-SO_2...      ASC   \n",
       "RGEALTI_2-0_1M_ASC_RGFG95UTM22-GUYA77_D973-SO_2...      ASC   \n",
       "\n",
       "                                                                   crs  \\\n",
       "name                                                                     \n",
       "RGEALTI_2-0_1M_ASC_RGFG95UTM22-GUYA77_D973-NE_2...  RGFG95UTM22-GUYA77   \n",
       "RGEALTI_2-0_1M_ASC_RGFG95UTM22-GUYA77_D973-NE_2...  RGFG95UTM22-GUYA77   \n",
       "RGEALTI_2-0_1M_ASC_RGFG95UTM22-GUYA77_D973-NE_2...  RGFG95UTM22-GUYA77   \n",
       "RGEALTI_2-0_1M_ASC_RGFG95UTM22-GUYA77_D973-NE_2...  RGFG95UTM22-GUYA77   \n",
       "RGEALTI_2-0_1M_ASC_RGFG95UTM22-GUYA77_D973-NE_2...  RGFG95UTM22-GUYA77   \n",
       "RGEALTI_2-0_1M_ASC_RGFG95UTM22-GUYA77_D973-NE_2...  RGFG95UTM22-GUYA77   \n",
       "RGEALTI_2-0_1M_ASC_RGFG95UTM22-GUYA77_D973-NO_2...  RGFG95UTM22-GUYA77   \n",
       "RGEALTI_2-0_1M_ASC_RGFG95UTM22-GUYA77_D973-NO_2...  RGFG95UTM22-GUYA77   \n",
       "RGEALTI_2-0_1M_ASC_RGFG95UTM22-GUYA77_D973-NO_2...  RGFG95UTM22-GUYA77   \n",
       "RGEALTI_2-0_1M_ASC_RGFG95UTM22-GUYA77_D973-NO_2...  RGFG95UTM22-GUYA77   \n",
       "RGEALTI_2-0_1M_ASC_RGFG95UTM22-GUYA77_D973-NO_2...  RGFG95UTM22-GUYA77   \n",
       "RGEALTI_2-0_1M_ASC_RGFG95UTM22-GUYA77_D973-NO_2...  RGFG95UTM22-GUYA77   \n",
       "RGEALTI_2-0_1M_ASC_RGFG95UTM22-GUYA77_D973-NO_2...  RGFG95UTM22-GUYA77   \n",
       "RGEALTI_2-0_1M_ASC_RGFG95UTM22-GUYA77_D973-SE_2...  RGFG95UTM22-GUYA77   \n",
       "RGEALTI_2-0_1M_ASC_RGFG95UTM22-GUYA77_D973-SE_2...  RGFG95UTM22-GUYA77   \n",
       "RGEALTI_2-0_1M_ASC_RGFG95UTM22-GUYA77_D973-SE_2...  RGFG95UTM22-GUYA77   \n",
       "RGEALTI_2-0_1M_ASC_RGFG95UTM22-GUYA77_D973-SE_2...  RGFG95UTM22-GUYA77   \n",
       "RGEALTI_2-0_1M_ASC_RGFG95UTM22-GUYA77_D973-SE_2...  RGFG95UTM22-GUYA77   \n",
       "RGEALTI_2-0_1M_ASC_RGFG95UTM22-GUYA77_D973-SE_2...  RGFG95UTM22-GUYA77   \n",
       "RGEALTI_2-0_1M_ASC_RGFG95UTM22-GUYA77_D973-SE_2...  RGFG95UTM22-GUYA77   \n",
       "RGEALTI_2-0_1M_ASC_RGFG95UTM22-GUYA77_D973-SO_2...  RGFG95UTM22-GUYA77   \n",
       "RGEALTI_2-0_1M_ASC_RGFG95UTM22-GUYA77_D973-SO_2...  RGFG95UTM22-GUYA77   \n",
       "RGEALTI_2-0_1M_ASC_RGFG95UTM22-GUYA77_D973-SO_2...  RGFG95UTM22-GUYA77   \n",
       "RGEALTI_2-0_1M_ASC_RGFG95UTM22-GUYA77_D973-SO_2...  RGFG95UTM22-GUYA77   \n",
       "RGEALTI_2-0_1M_ASC_RGFG95UTM22-GUYA77_D973-SO_2...  RGFG95UTM22-GUYA77   \n",
       "RGEALTI_2-0_1M_ASC_RGFG95UTM22-GUYA77_D973-SO_2...  RGFG95UTM22-GUYA77   \n",
       "RGEALTI_2-0_1M_ASC_RGFG95UTM22-GUYA77_D973-SO_2...  RGFG95UTM22-GUYA77   \n",
       "\n",
       "                                                        dep            date  \n",
       "name                                                                         \n",
       "RGEALTI_2-0_1M_ASC_RGFG95UTM22-GUYA77_D973-NE_2...  D973-NE  2021-03-04.7z.  \n",
       "RGEALTI_2-0_1M_ASC_RGFG95UTM22-GUYA77_D973-NE_2...  D973-NE  2021-03-04.7z.  \n",
       "RGEALTI_2-0_1M_ASC_RGFG95UTM22-GUYA77_D973-NE_2...  D973-NE  2021-03-04.7z.  \n",
       "RGEALTI_2-0_1M_ASC_RGFG95UTM22-GUYA77_D973-NE_2...  D973-NE  2021-03-04.7z.  \n",
       "RGEALTI_2-0_1M_ASC_RGFG95UTM22-GUYA77_D973-NE_2...  D973-NE  2021-03-04.7z.  \n",
       "RGEALTI_2-0_1M_ASC_RGFG95UTM22-GUYA77_D973-NE_2...  D973-NE  2021-03-04.7z.  \n",
       "RGEALTI_2-0_1M_ASC_RGFG95UTM22-GUYA77_D973-NO_2...  D973-NO  2021-03-04.7z.  \n",
       "RGEALTI_2-0_1M_ASC_RGFG95UTM22-GUYA77_D973-NO_2...  D973-NO  2021-03-04.7z.  \n",
       "RGEALTI_2-0_1M_ASC_RGFG95UTM22-GUYA77_D973-NO_2...  D973-NO  2021-03-04.7z.  \n",
       "RGEALTI_2-0_1M_ASC_RGFG95UTM22-GUYA77_D973-NO_2...  D973-NO  2021-03-04.7z.  \n",
       "RGEALTI_2-0_1M_ASC_RGFG95UTM22-GUYA77_D973-NO_2...  D973-NO  2021-03-04.7z.  \n",
       "RGEALTI_2-0_1M_ASC_RGFG95UTM22-GUYA77_D973-NO_2...  D973-NO  2021-03-04.7z.  \n",
       "RGEALTI_2-0_1M_ASC_RGFG95UTM22-GUYA77_D973-NO_2...  D973-NO  2021-03-04.7z.  \n",
       "RGEALTI_2-0_1M_ASC_RGFG95UTM22-GUYA77_D973-SE_2...  D973-SE  2021-03-04.7z.  \n",
       "RGEALTI_2-0_1M_ASC_RGFG95UTM22-GUYA77_D973-SE_2...  D973-SE  2021-03-04.7z.  \n",
       "RGEALTI_2-0_1M_ASC_RGFG95UTM22-GUYA77_D973-SE_2...  D973-SE  2021-03-04.7z.  \n",
       "RGEALTI_2-0_1M_ASC_RGFG95UTM22-GUYA77_D973-SE_2...  D973-SE  2021-03-04.7z.  \n",
       "RGEALTI_2-0_1M_ASC_RGFG95UTM22-GUYA77_D973-SE_2...  D973-SE  2021-03-04.7z.  \n",
       "RGEALTI_2-0_1M_ASC_RGFG95UTM22-GUYA77_D973-SE_2...  D973-SE  2021-03-04.7z.  \n",
       "RGEALTI_2-0_1M_ASC_RGFG95UTM22-GUYA77_D973-SE_2...  D973-SE  2021-03-04.7z.  \n",
       "RGEALTI_2-0_1M_ASC_RGFG95UTM22-GUYA77_D973-SO_2...  D973-SO  2021-03-04.7z.  \n",
       "RGEALTI_2-0_1M_ASC_RGFG95UTM22-GUYA77_D973-SO_2...  D973-SO  2021-03-04.7z.  \n",
       "RGEALTI_2-0_1M_ASC_RGFG95UTM22-GUYA77_D973-SO_2...  D973-SO  2021-03-04.7z.  \n",
       "RGEALTI_2-0_1M_ASC_RGFG95UTM22-GUYA77_D973-SO_2...  D973-SO  2021-03-04.7z.  \n",
       "RGEALTI_2-0_1M_ASC_RGFG95UTM22-GUYA77_D973-SO_2...  D973-SO  2021-03-04.7z.  \n",
       "RGEALTI_2-0_1M_ASC_RGFG95UTM22-GUYA77_D973-SO_2...  D973-SO  2021-03-04.7z.  \n",
       "RGEALTI_2-0_1M_ASC_RGFG95UTM22-GUYA77_D973-SO_2...  D973-SO  2021-03-04.7z.  "
      ]
     },
     "execution_count": 11,
     "metadata": {},
     "output_type": "execute_result"
    }
   ],
   "source": [
    "dfi = df.loc[df.dep.isin(['D973-NE', 'D973-NO', 'D973-SE', 'D973-SO'])]\n",
    "dfi"
   ]
  },
  {
   "cell_type": "code",
   "execution_count": 12,
   "metadata": {},
   "outputs": [],
   "source": [
    "root_to_save_file = \"/mnt/c/Users/guiat/Desktop\""
   ]
  },
  {
   "cell_type": "code",
   "execution_count": 5,
   "metadata": {},
   "outputs": [
    {
     "name": "stdout",
     "output_type": "stream",
     "text": [
      "Saint-Martin in process...\n",
      "['D978']\n"
     ]
    },
    {
     "data": {
      "application/vnd.jupyter.widget-view+json": {
       "model_id": "33ca423533144af0b622b0ce435ed1fa",
       "version_major": 2,
       "version_minor": 0
      },
      "text/plain": [
       "  0%|          | 0.00/102M [00:00<?, ?B/s]"
      ]
     },
     "metadata": {},
     "output_type": "display_data"
    },
    {
     "name": "stdout",
     "output_type": "stream",
     "text": [
      "RGEALTI_2-0_1M_ASC_RGAF09UTM20-GUAD88SM_D978_2019-11-20.7z is downloaded.\n",
      "Saint-Martin finished!\n",
      "Saint-Pierre-et-Miquelon in process...\n",
      "['D975']\n"
     ]
    },
    {
     "data": {
      "application/vnd.jupyter.widget-view+json": {
       "model_id": "adf863d5cecf4c09b18e970e399fe7fb",
       "version_major": 2,
       "version_minor": 0
      },
      "text/plain": [
       "  0%|          | 0.00/237M [00:00<?, ?B/s]"
      ]
     },
     "metadata": {},
     "output_type": "display_data"
    },
    {
     "name": "stdout",
     "output_type": "stream",
     "text": [
      "RGEALTI_2-0_1M_ASC_RGSPM06U21-STPM50_D975_2017-03-27.7z is downloaded.\n",
      "Saint-Pierre-et-Miquelon finished!\n",
      "Mayotte in process...\n",
      "['D976']\n"
     ]
    },
    {
     "data": {
      "application/vnd.jupyter.widget-view+json": {
       "model_id": "657f27fca80248c68087e430c885e189",
       "version_major": 2,
       "version_minor": 0
      },
      "text/plain": [
       "  0%|          | 0.00/584M [00:00<?, ?B/s]"
      ]
     },
     "metadata": {},
     "output_type": "display_data"
    },
    {
     "name": "stdout",
     "output_type": "stream",
     "text": [
      "RGEALTI_2-0_1M_ASC_RGM04UTM38S-MAYO53_D976_2013-12-19.7z is downloaded.\n",
      "Mayotte finished!\n",
      "Saint-Barthélemy in process...\n",
      "['D977']\n"
     ]
    },
    {
     "data": {
      "application/vnd.jupyter.widget-view+json": {
       "model_id": "286b01a101064b249d2ba26ecd9b1326",
       "version_major": 2,
       "version_minor": 0
      },
      "text/plain": [
       "  0%|          | 0.00/73.4M [00:00<?, ?B/s]"
      ]
     },
     "metadata": {},
     "output_type": "display_data"
    },
    {
     "name": "stdout",
     "output_type": "stream",
     "text": [
      "RGEALTI_2-0_1M_ASC_RGAF09UTM20-GUAD88SB_D977_2019-11-25.7z is downloaded.\n",
      "Saint-Barthélemy finished!\n"
     ]
    }
   ],
   "source": [
    "for roi in [\"Saint-Martin\", \"Saint-Pierre-et-Miquelon\", \"Mayotte\", \"Saint-Barthélemy\"]:\n",
    "    print(roi, \"in process...\")\n",
    "    deps_of_interest = REGIONS[roi]\n",
    "    deps_of_interest = [\"D\"+dn for dn in deps_of_interest]\n",
    "    print(deps_of_interest)\n",
    "    dfi = df.loc[df.dep.isin(deps_of_interest)]\n",
    "    dfi = df.loc[df.dep.isin(deps_of_interest)]\n",
    "    filenames = dfi.index.to_list()\n",
    "    path_to_save_file = os.path.join(root_to_save_file, roi)\n",
    "    os.makedirs(path_to_save_file, exist_ok=True)\n",
    "    for num, filename in enumerate(filenames):\n",
    "        ftp_h.download_file(filename, path_to_save_file)\n",
    "    print(roi, \"finished!\")\n",
    "    \n"
   ]
  },
  {
   "cell_type": "code",
   "execution_count": 8,
   "metadata": {},
   "outputs": [
    {
     "data": {
      "text/plain": [
       "['RGEALTI_2-0_1M_ASC_LAMB93-IGN78C_D02A_2020-04-16.7z',\n",
       " 'RGEALTI_2-0_1M_ASC_LAMB93-IGN78C_D02B_2020-04-16.7z']"
      ]
     },
     "execution_count": 8,
     "metadata": {},
     "output_type": "execute_result"
    }
   ],
   "source": [
    "ROI = \"Corse\"\n",
    "#\n",
    "\n",
    "deps_of_interest = REGIONS[ROI]\n",
    "deps_of_interest = dfi = df.loc[df.dep.isin(['D973-NE', 'D973-NO', 'D973-SE', 'D973-SO'])]\n",
    "\n",
    "\n",
    "# Loc lines of interest in the pandas.df.\n",
    "dfi = df.loc[df.dep.isin(deps_of_interest)]\n",
    "filenames = dfi.index.to_list()\n",
    "filenames"
   ]
  },
  {
   "cell_type": "code",
   "execution_count": 9,
   "metadata": {},
   "outputs": [
    {
     "data": {
      "application/vnd.jupyter.widget-view+json": {
       "model_id": "79d746dc4f61432b83c3b0e5154729da",
       "version_major": 2,
       "version_minor": 0
      },
      "text/plain": [
       "  0%|          | 0.00/4.43G [00:00<?, ?B/s]"
      ]
     },
     "metadata": {},
     "output_type": "display_data"
    },
    {
     "name": "stdout",
     "output_type": "stream",
     "text": [
      "RGEALTI_2-0_1M_ASC_LAMB93-IGN78C_D02A_2020-04-16.7z is downloaded.\n"
     ]
    },
    {
     "data": {
      "application/vnd.jupyter.widget-view+json": {
       "model_id": "f1472b3e97ef4ddabdf125ac6b5bc0db",
       "version_major": 2,
       "version_minor": 0
      },
      "text/plain": [
       "  0%|          | 0.00/4.82G [00:00<?, ?B/s]"
      ]
     },
     "metadata": {},
     "output_type": "display_data"
    },
    {
     "name": "stdout",
     "output_type": "stream",
     "text": [
      "RGEALTI_2-0_1M_ASC_LAMB93-IGN78C_D02B_2020-04-16.7z is downloaded.\n"
     ]
    }
   ],
   "source": [
    "for num, filename in enumerate(filenames):\n",
    "    if filename in os.listdir(TEMP_ZIP):\n",
    "        print(filename, \"already downloaded\")\n",
    "    else:\n",
    "        ftp_h.download_file(filename, TEMP_ZIP)"
   ]
  },
  {
   "cell_type": "code",
   "execution_count": 13,
   "metadata": {},
   "outputs": [
    {
     "data": {
      "text/plain": [
       "['RGEALTI_2-0_1M_ASC_RGFG95UTM22-GUYA77_D973-NE_2021-03-04.7z.001',\n",
       " 'RGEALTI_2-0_1M_ASC_RGFG95UTM22-GUYA77_D973-NE_2021-03-04.7z.002',\n",
       " 'RGEALTI_2-0_1M_ASC_RGFG95UTM22-GUYA77_D973-NE_2021-03-04.7z.003',\n",
       " 'RGEALTI_2-0_1M_ASC_RGFG95UTM22-GUYA77_D973-NE_2021-03-04.7z.004',\n",
       " 'RGEALTI_2-0_1M_ASC_RGFG95UTM22-GUYA77_D973-NE_2021-03-04.7z.005',\n",
       " 'RGEALTI_2-0_1M_ASC_RGFG95UTM22-GUYA77_D973-NE_2021-03-04.7z.006',\n",
       " 'RGEALTI_2-0_1M_ASC_RGFG95UTM22-GUYA77_D973-NO_2021-03-04.7z.001',\n",
       " 'RGEALTI_2-0_1M_ASC_RGFG95UTM22-GUYA77_D973-NO_2021-03-04.7z.002',\n",
       " 'RGEALTI_2-0_1M_ASC_RGFG95UTM22-GUYA77_D973-NO_2021-03-04.7z.003',\n",
       " 'RGEALTI_2-0_1M_ASC_RGFG95UTM22-GUYA77_D973-NO_2021-03-04.7z.004',\n",
       " 'RGEALTI_2-0_1M_ASC_RGFG95UTM22-GUYA77_D973-NO_2021-03-04.7z.005',\n",
       " 'RGEALTI_2-0_1M_ASC_RGFG95UTM22-GUYA77_D973-NO_2021-03-04.7z.006',\n",
       " 'RGEALTI_2-0_1M_ASC_RGFG95UTM22-GUYA77_D973-NO_2021-03-04.7z.007',\n",
       " 'RGEALTI_2-0_1M_ASC_RGFG95UTM22-GUYA77_D973-SE_2021-03-04.7z.001',\n",
       " 'RGEALTI_2-0_1M_ASC_RGFG95UTM22-GUYA77_D973-SE_2021-03-04.7z.002',\n",
       " 'RGEALTI_2-0_1M_ASC_RGFG95UTM22-GUYA77_D973-SE_2021-03-04.7z.003',\n",
       " 'RGEALTI_2-0_1M_ASC_RGFG95UTM22-GUYA77_D973-SE_2021-03-04.7z.004',\n",
       " 'RGEALTI_2-0_1M_ASC_RGFG95UTM22-GUYA77_D973-SE_2021-03-04.7z.005',\n",
       " 'RGEALTI_2-0_1M_ASC_RGFG95UTM22-GUYA77_D973-SE_2021-03-04.7z.006',\n",
       " 'RGEALTI_2-0_1M_ASC_RGFG95UTM22-GUYA77_D973-SE_2021-03-04.7z.007',\n",
       " 'RGEALTI_2-0_1M_ASC_RGFG95UTM22-GUYA77_D973-SO_2021-03-04.7z.001',\n",
       " 'RGEALTI_2-0_1M_ASC_RGFG95UTM22-GUYA77_D973-SO_2021-03-04.7z.002',\n",
       " 'RGEALTI_2-0_1M_ASC_RGFG95UTM22-GUYA77_D973-SO_2021-03-04.7z.003',\n",
       " 'RGEALTI_2-0_1M_ASC_RGFG95UTM22-GUYA77_D973-SO_2021-03-04.7z.004',\n",
       " 'RGEALTI_2-0_1M_ASC_RGFG95UTM22-GUYA77_D973-SO_2021-03-04.7z.005',\n",
       " 'RGEALTI_2-0_1M_ASC_RGFG95UTM22-GUYA77_D973-SO_2021-03-04.7z.006',\n",
       " 'RGEALTI_2-0_1M_ASC_RGFG95UTM22-GUYA77_D973-SO_2021-03-04.7z.007']"
      ]
     },
     "execution_count": 13,
     "metadata": {},
     "output_type": "execute_result"
    }
   ],
   "source": [
    "deps_of_interest = ['D973-NE', 'D973-NO', 'D973-SE', 'D973-SO']\n",
    "# Loc lines of interest in the pandas.df.\n",
    "dfi = df.loc[df.dep.isin(deps_of_interest)]\n",
    "filenames = dfi.index.to_list()\n",
    "filenames"
   ]
  },
  {
   "cell_type": "code",
   "execution_count": 14,
   "metadata": {},
   "outputs": [
    {
     "data": {
      "application/vnd.jupyter.widget-view+json": {
       "model_id": "e710d3624fc94dc480b0f2b748d45a1d",
       "version_major": 2,
       "version_minor": 0
      },
      "text/plain": [
       "  0%|          | 0.00/4.00G [00:00<?, ?B/s]"
      ]
     },
     "metadata": {},
     "output_type": "display_data"
    },
    {
     "name": "stdout",
     "output_type": "stream",
     "text": [
      "RGEALTI_2-0_1M_ASC_RGFG95UTM22-GUYA77_D973-NE_2021-03-04.7z.001 is downloaded.\n"
     ]
    },
    {
     "data": {
      "application/vnd.jupyter.widget-view+json": {
       "model_id": "a1a76f42d342468ebae921ee4a5d8129",
       "version_major": 2,
       "version_minor": 0
      },
      "text/plain": [
       "  0%|          | 0.00/4.00G [00:00<?, ?B/s]"
      ]
     },
     "metadata": {},
     "output_type": "display_data"
    },
    {
     "name": "stdout",
     "output_type": "stream",
     "text": [
      "RGEALTI_2-0_1M_ASC_RGFG95UTM22-GUYA77_D973-NE_2021-03-04.7z.002 is downloaded.\n"
     ]
    },
    {
     "data": {
      "application/vnd.jupyter.widget-view+json": {
       "model_id": "374f38842b884e8bbb7524910fd39101",
       "version_major": 2,
       "version_minor": 0
      },
      "text/plain": [
       "  0%|          | 0.00/4.00G [00:00<?, ?B/s]"
      ]
     },
     "metadata": {},
     "output_type": "display_data"
    },
    {
     "name": "stdout",
     "output_type": "stream",
     "text": [
      "RGEALTI_2-0_1M_ASC_RGFG95UTM22-GUYA77_D973-NE_2021-03-04.7z.003 is downloaded.\n"
     ]
    },
    {
     "data": {
      "application/vnd.jupyter.widget-view+json": {
       "model_id": "09c7d37ad2e54dfe8da05951b5ac99c5",
       "version_major": 2,
       "version_minor": 0
      },
      "text/plain": [
       "  0%|          | 0.00/4.00G [00:00<?, ?B/s]"
      ]
     },
     "metadata": {},
     "output_type": "display_data"
    },
    {
     "name": "stdout",
     "output_type": "stream",
     "text": [
      "RGEALTI_2-0_1M_ASC_RGFG95UTM22-GUYA77_D973-NE_2021-03-04.7z.004 is downloaded.\n"
     ]
    },
    {
     "data": {
      "application/vnd.jupyter.widget-view+json": {
       "model_id": "04e2fa5ccdeb473287dc0ab39fa8e7b6",
       "version_major": 2,
       "version_minor": 0
      },
      "text/plain": [
       "  0%|          | 0.00/4.00G [00:00<?, ?B/s]"
      ]
     },
     "metadata": {},
     "output_type": "display_data"
    },
    {
     "name": "stdout",
     "output_type": "stream",
     "text": [
      "RGEALTI_2-0_1M_ASC_RGFG95UTM22-GUYA77_D973-NE_2021-03-04.7z.005 is downloaded.\n"
     ]
    },
    {
     "data": {
      "application/vnd.jupyter.widget-view+json": {
       "model_id": "22c285ced0764095ba40b69c33458685",
       "version_major": 2,
       "version_minor": 0
      },
      "text/plain": [
       "  0%|          | 0.00/1.21G [00:00<?, ?B/s]"
      ]
     },
     "metadata": {},
     "output_type": "display_data"
    },
    {
     "name": "stdout",
     "output_type": "stream",
     "text": [
      "RGEALTI_2-0_1M_ASC_RGFG95UTM22-GUYA77_D973-NE_2021-03-04.7z.006 is downloaded.\n"
     ]
    },
    {
     "data": {
      "application/vnd.jupyter.widget-view+json": {
       "model_id": "c322cf866aeb45dda639df5cd78e3d0a",
       "version_major": 2,
       "version_minor": 0
      },
      "text/plain": [
       "  0%|          | 0.00/4.00G [00:00<?, ?B/s]"
      ]
     },
     "metadata": {},
     "output_type": "display_data"
    },
    {
     "name": "stdout",
     "output_type": "stream",
     "text": [
      "RGEALTI_2-0_1M_ASC_RGFG95UTM22-GUYA77_D973-NO_2021-03-04.7z.001 is downloaded.\n"
     ]
    },
    {
     "data": {
      "application/vnd.jupyter.widget-view+json": {
       "model_id": "9cf0a73c8de34eb3affef1a75cc2756f",
       "version_major": 2,
       "version_minor": 0
      },
      "text/plain": [
       "  0%|          | 0.00/4.00G [00:00<?, ?B/s]"
      ]
     },
     "metadata": {},
     "output_type": "display_data"
    },
    {
     "name": "stdout",
     "output_type": "stream",
     "text": [
      "RGEALTI_2-0_1M_ASC_RGFG95UTM22-GUYA77_D973-NO_2021-03-04.7z.002 is downloaded.\n"
     ]
    },
    {
     "data": {
      "application/vnd.jupyter.widget-view+json": {
       "model_id": "8d17a07613824bc0a4f68eed53c419ed",
       "version_major": 2,
       "version_minor": 0
      },
      "text/plain": [
       "  0%|          | 0.00/4.00G [00:00<?, ?B/s]"
      ]
     },
     "metadata": {},
     "output_type": "display_data"
    },
    {
     "name": "stdout",
     "output_type": "stream",
     "text": [
      "RGEALTI_2-0_1M_ASC_RGFG95UTM22-GUYA77_D973-NO_2021-03-04.7z.003 is downloaded.\n"
     ]
    },
    {
     "data": {
      "application/vnd.jupyter.widget-view+json": {
       "model_id": "d86eb373125649cabe76427dacc98dec",
       "version_major": 2,
       "version_minor": 0
      },
      "text/plain": [
       "  0%|          | 0.00/4.00G [00:00<?, ?B/s]"
      ]
     },
     "metadata": {},
     "output_type": "display_data"
    },
    {
     "name": "stdout",
     "output_type": "stream",
     "text": [
      "RGEALTI_2-0_1M_ASC_RGFG95UTM22-GUYA77_D973-NO_2021-03-04.7z.004 is downloaded.\n"
     ]
    },
    {
     "data": {
      "application/vnd.jupyter.widget-view+json": {
       "model_id": "20348ee183e74719b06f980ef35add6e",
       "version_major": 2,
       "version_minor": 0
      },
      "text/plain": [
       "  0%|          | 0.00/4.00G [00:00<?, ?B/s]"
      ]
     },
     "metadata": {},
     "output_type": "display_data"
    },
    {
     "name": "stdout",
     "output_type": "stream",
     "text": [
      "RGEALTI_2-0_1M_ASC_RGFG95UTM22-GUYA77_D973-NO_2021-03-04.7z.005 is downloaded.\n"
     ]
    },
    {
     "data": {
      "application/vnd.jupyter.widget-view+json": {
       "model_id": "20b9ca9d74544a4a97e6d842244810ef",
       "version_major": 2,
       "version_minor": 0
      },
      "text/plain": [
       "  0%|          | 0.00/4.00G [00:00<?, ?B/s]"
      ]
     },
     "metadata": {},
     "output_type": "display_data"
    },
    {
     "name": "stdout",
     "output_type": "stream",
     "text": [
      "RGEALTI_2-0_1M_ASC_RGFG95UTM22-GUYA77_D973-NO_2021-03-04.7z.006 is downloaded.\n"
     ]
    },
    {
     "data": {
      "application/vnd.jupyter.widget-view+json": {
       "model_id": "aa271bcee0034330b575c4a4add9beff",
       "version_major": 2,
       "version_minor": 0
      },
      "text/plain": [
       "  0%|          | 0.00/2.07G [00:00<?, ?B/s]"
      ]
     },
     "metadata": {},
     "output_type": "display_data"
    },
    {
     "name": "stdout",
     "output_type": "stream",
     "text": [
      "RGEALTI_2-0_1M_ASC_RGFG95UTM22-GUYA77_D973-NO_2021-03-04.7z.007 is downloaded.\n"
     ]
    },
    {
     "data": {
      "application/vnd.jupyter.widget-view+json": {
       "model_id": "059155576da2499184906b2c26ae9bc9",
       "version_major": 2,
       "version_minor": 0
      },
      "text/plain": [
       "  0%|          | 0.00/4.00G [00:00<?, ?B/s]"
      ]
     },
     "metadata": {},
     "output_type": "display_data"
    },
    {
     "name": "stdout",
     "output_type": "stream",
     "text": [
      "RGEALTI_2-0_1M_ASC_RGFG95UTM22-GUYA77_D973-SE_2021-03-04.7z.001 is downloaded.\n"
     ]
    },
    {
     "data": {
      "application/vnd.jupyter.widget-view+json": {
       "model_id": "a9af9b41bd4c4dfcba054acf68e049c4",
       "version_major": 2,
       "version_minor": 0
      },
      "text/plain": [
       "  0%|          | 0.00/4.00G [00:00<?, ?B/s]"
      ]
     },
     "metadata": {},
     "output_type": "display_data"
    },
    {
     "name": "stdout",
     "output_type": "stream",
     "text": [
      "RGEALTI_2-0_1M_ASC_RGFG95UTM22-GUYA77_D973-SE_2021-03-04.7z.002 is downloaded.\n"
     ]
    },
    {
     "data": {
      "application/vnd.jupyter.widget-view+json": {
       "model_id": "8c7f7e0ffb594c43bccccfd0b6fb2a3c",
       "version_major": 2,
       "version_minor": 0
      },
      "text/plain": [
       "  0%|          | 0.00/4.00G [00:00<?, ?B/s]"
      ]
     },
     "metadata": {},
     "output_type": "display_data"
    },
    {
     "name": "stdout",
     "output_type": "stream",
     "text": [
      "RGEALTI_2-0_1M_ASC_RGFG95UTM22-GUYA77_D973-SE_2021-03-04.7z.003 is downloaded.\n"
     ]
    },
    {
     "data": {
      "application/vnd.jupyter.widget-view+json": {
       "model_id": "7383294c57134b099a4587808b78769a",
       "version_major": 2,
       "version_minor": 0
      },
      "text/plain": [
       "  0%|          | 0.00/4.00G [00:00<?, ?B/s]"
      ]
     },
     "metadata": {},
     "output_type": "display_data"
    },
    {
     "name": "stdout",
     "output_type": "stream",
     "text": [
      "RGEALTI_2-0_1M_ASC_RGFG95UTM22-GUYA77_D973-SE_2021-03-04.7z.004 is downloaded.\n"
     ]
    },
    {
     "data": {
      "application/vnd.jupyter.widget-view+json": {
       "model_id": "8860938c1079473b8ec76d5ac87bced3",
       "version_major": 2,
       "version_minor": 0
      },
      "text/plain": [
       "  0%|          | 0.00/4.00G [00:00<?, ?B/s]"
      ]
     },
     "metadata": {},
     "output_type": "display_data"
    },
    {
     "name": "stdout",
     "output_type": "stream",
     "text": [
      "RGEALTI_2-0_1M_ASC_RGFG95UTM22-GUYA77_D973-SE_2021-03-04.7z.005 is downloaded.\n"
     ]
    },
    {
     "data": {
      "application/vnd.jupyter.widget-view+json": {
       "model_id": "38c2bda552c846ba8451891329bf8026",
       "version_major": 2,
       "version_minor": 0
      },
      "text/plain": [
       "  0%|          | 0.00/4.00G [00:00<?, ?B/s]"
      ]
     },
     "metadata": {},
     "output_type": "display_data"
    },
    {
     "name": "stdout",
     "output_type": "stream",
     "text": [
      "RGEALTI_2-0_1M_ASC_RGFG95UTM22-GUYA77_D973-SE_2021-03-04.7z.006 is downloaded.\n"
     ]
    },
    {
     "data": {
      "application/vnd.jupyter.widget-view+json": {
       "model_id": "611d037f3dfb4f44a11b40e705d51bcd",
       "version_major": 2,
       "version_minor": 0
      },
      "text/plain": [
       "  0%|          | 0.00/3.81G [00:00<?, ?B/s]"
      ]
     },
     "metadata": {},
     "output_type": "display_data"
    },
    {
     "name": "stdout",
     "output_type": "stream",
     "text": [
      "RGEALTI_2-0_1M_ASC_RGFG95UTM22-GUYA77_D973-SE_2021-03-04.7z.007 is downloaded.\n"
     ]
    },
    {
     "data": {
      "application/vnd.jupyter.widget-view+json": {
       "model_id": "280aaaf4b8d7412384f468c6c14d292c",
       "version_major": 2,
       "version_minor": 0
      },
      "text/plain": [
       "  0%|          | 0.00/4.00G [00:00<?, ?B/s]"
      ]
     },
     "metadata": {},
     "output_type": "display_data"
    },
    {
     "name": "stdout",
     "output_type": "stream",
     "text": [
      "RGEALTI_2-0_1M_ASC_RGFG95UTM22-GUYA77_D973-SO_2021-03-04.7z.001 is downloaded.\n"
     ]
    },
    {
     "data": {
      "application/vnd.jupyter.widget-view+json": {
       "model_id": "9aeb101b2a3a42dfa7a2d42bceda51bd",
       "version_major": 2,
       "version_minor": 0
      },
      "text/plain": [
       "  0%|          | 0.00/4.00G [00:00<?, ?B/s]"
      ]
     },
     "metadata": {},
     "output_type": "display_data"
    },
    {
     "name": "stdout",
     "output_type": "stream",
     "text": [
      "RGEALTI_2-0_1M_ASC_RGFG95UTM22-GUYA77_D973-SO_2021-03-04.7z.002 is downloaded.\n"
     ]
    },
    {
     "data": {
      "application/vnd.jupyter.widget-view+json": {
       "model_id": "2483228e0d194f04bbd732feba2f64bc",
       "version_major": 2,
       "version_minor": 0
      },
      "text/plain": [
       "  0%|          | 0.00/4.00G [00:00<?, ?B/s]"
      ]
     },
     "metadata": {},
     "output_type": "display_data"
    },
    {
     "name": "stdout",
     "output_type": "stream",
     "text": [
      "RGEALTI_2-0_1M_ASC_RGFG95UTM22-GUYA77_D973-SO_2021-03-04.7z.003 is downloaded.\n"
     ]
    },
    {
     "data": {
      "application/vnd.jupyter.widget-view+json": {
       "model_id": "9d3860944f3f4f27b0693db7b6dbfa13",
       "version_major": 2,
       "version_minor": 0
      },
      "text/plain": [
       "  0%|          | 0.00/4.00G [00:00<?, ?B/s]"
      ]
     },
     "metadata": {},
     "output_type": "display_data"
    },
    {
     "name": "stdout",
     "output_type": "stream",
     "text": [
      "RGEALTI_2-0_1M_ASC_RGFG95UTM22-GUYA77_D973-SO_2021-03-04.7z.004 is downloaded.\n"
     ]
    },
    {
     "data": {
      "application/vnd.jupyter.widget-view+json": {
       "model_id": "bc0f62070268450188ded9756c4a80ed",
       "version_major": 2,
       "version_minor": 0
      },
      "text/plain": [
       "  0%|          | 0.00/4.00G [00:00<?, ?B/s]"
      ]
     },
     "metadata": {},
     "output_type": "display_data"
    },
    {
     "name": "stdout",
     "output_type": "stream",
     "text": [
      "RGEALTI_2-0_1M_ASC_RGFG95UTM22-GUYA77_D973-SO_2021-03-04.7z.005 is downloaded.\n"
     ]
    },
    {
     "data": {
      "application/vnd.jupyter.widget-view+json": {
       "model_id": "5c4ab761cff34c70ac54131903056d84",
       "version_major": 2,
       "version_minor": 0
      },
      "text/plain": [
       "  0%|          | 0.00/4.00G [00:00<?, ?B/s]"
      ]
     },
     "metadata": {},
     "output_type": "display_data"
    },
    {
     "name": "stdout",
     "output_type": "stream",
     "text": [
      "RGEALTI_2-0_1M_ASC_RGFG95UTM22-GUYA77_D973-SO_2021-03-04.7z.006 is downloaded.\n"
     ]
    },
    {
     "data": {
      "application/vnd.jupyter.widget-view+json": {
       "model_id": "6c1075dc6bc5446a9ce3fdf59779c45f",
       "version_major": 2,
       "version_minor": 0
      },
      "text/plain": [
       "  0%|          | 0.00/3.75G [00:00<?, ?B/s]"
      ]
     },
     "metadata": {},
     "output_type": "display_data"
    },
    {
     "name": "stdout",
     "output_type": "stream",
     "text": [
      "RGEALTI_2-0_1M_ASC_RGFG95UTM22-GUYA77_D973-SO_2021-03-04.7z.007 is downloaded.\n"
     ]
    }
   ],
   "source": [
    "path_to_save_file = os.path.join(root_to_save_file, \"Guyane\")\n",
    "for num, filename in enumerate(filenames):\n",
    "    ftp_h.download_file(filename, path_to_save_file)"
   ]
  }
 ],
 "metadata": {
  "kernelspec": {
   "display_name": "venv-rge",
   "language": "python",
   "name": "venv-rge"
  },
  "language_info": {
   "codemirror_mode": {
    "name": "ipython",
    "version": 3
   },
   "file_extension": ".py",
   "mimetype": "text/x-python",
   "name": "python",
   "nbconvert_exporter": "python",
   "pygments_lexer": "ipython3",
   "version": "3.9.13"
  },
  "orig_nbformat": 4
 },
 "nbformat": 4,
 "nbformat_minor": 2
}
