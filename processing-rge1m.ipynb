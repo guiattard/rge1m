{
 "cells": [
  {
   "cell_type": "code",
   "execution_count": 1,
   "metadata": {},
   "outputs": [],
   "source": [
    "import pandas as pd\n",
    "import numpy as np\n",
    "from process import *"
   ]
  },
  {
   "cell_type": "code",
   "execution_count": 2,
   "metadata": {},
   "outputs": [],
   "source": [
    "# Instantiate helper\n",
    "ftp_h = FTPHelper(URL, USERNAME, PASSWORD)"
   ]
  },
  {
   "cell_type": "code",
   "execution_count": 3,
   "metadata": {},
   "outputs": [
    {
     "data": {
      "text/html": [
       "<div>\n",
       "<style scoped>\n",
       "    .dataframe tbody tr th:only-of-type {\n",
       "        vertical-align: middle;\n",
       "    }\n",
       "\n",
       "    .dataframe tbody tr th {\n",
       "        vertical-align: top;\n",
       "    }\n",
       "\n",
       "    .dataframe thead th {\n",
       "        text-align: right;\n",
       "    }\n",
       "</style>\n",
       "<table border=\"1\" class=\"dataframe\">\n",
       "  <thead>\n",
       "    <tr style=\"text-align: right;\">\n",
       "      <th></th>\n",
       "      <th>dataset</th>\n",
       "      <th>version</th>\n",
       "      <th>res</th>\n",
       "      <th>filetype</th>\n",
       "      <th>crs</th>\n",
       "      <th>dep</th>\n",
       "      <th>date</th>\n",
       "    </tr>\n",
       "    <tr>\n",
       "      <th>name</th>\n",
       "      <th></th>\n",
       "      <th></th>\n",
       "      <th></th>\n",
       "      <th></th>\n",
       "      <th></th>\n",
       "      <th></th>\n",
       "      <th></th>\n",
       "    </tr>\n",
       "  </thead>\n",
       "  <tbody>\n",
       "    <tr>\n",
       "      <th>RGEALTI_2-0_1M_ASC_LAMB93-IGN69_D001_2020-11-13.7z</th>\n",
       "      <td>RGEALTI</td>\n",
       "      <td>2-0</td>\n",
       "      <td>1M</td>\n",
       "      <td>ASC</td>\n",
       "      <td>LAMB93-IGN69</td>\n",
       "      <td>D001</td>\n",
       "      <td>2020-11-13</td>\n",
       "    </tr>\n",
       "    <tr>\n",
       "      <th>RGEALTI_2-0_1M_ASC_LAMB93-IGN69_D002_2020-09-04.7z</th>\n",
       "      <td>RGEALTI</td>\n",
       "      <td>2-0</td>\n",
       "      <td>1M</td>\n",
       "      <td>ASC</td>\n",
       "      <td>LAMB93-IGN69</td>\n",
       "      <td>D002</td>\n",
       "      <td>2020-09-04</td>\n",
       "    </tr>\n",
       "    <tr>\n",
       "      <th>RGEALTI_2-0_1M_ASC_LAMB93-IGN69_D003_2021-08-25.7z</th>\n",
       "      <td>RGEALTI</td>\n",
       "      <td>2-0</td>\n",
       "      <td>1M</td>\n",
       "      <td>ASC</td>\n",
       "      <td>LAMB93-IGN69</td>\n",
       "      <td>D003</td>\n",
       "      <td>2021-08-25</td>\n",
       "    </tr>\n",
       "    <tr>\n",
       "      <th>RGEALTI_2-0_1M_ASC_LAMB93-IGN69_D004_2021-08-04.7z.001</th>\n",
       "      <td>RGEALTI</td>\n",
       "      <td>2-0</td>\n",
       "      <td>1M</td>\n",
       "      <td>ASC</td>\n",
       "      <td>LAMB93-IGN69</td>\n",
       "      <td>D004</td>\n",
       "      <td>2021-08-04.7z.</td>\n",
       "    </tr>\n",
       "    <tr>\n",
       "      <th>RGEALTI_2-0_1M_ASC_LAMB93-IGN69_D004_2021-08-04.7z.002</th>\n",
       "      <td>RGEALTI</td>\n",
       "      <td>2-0</td>\n",
       "      <td>1M</td>\n",
       "      <td>ASC</td>\n",
       "      <td>LAMB93-IGN69</td>\n",
       "      <td>D004</td>\n",
       "      <td>2021-08-04.7z.</td>\n",
       "    </tr>\n",
       "    <tr>\n",
       "      <th>...</th>\n",
       "      <td>...</td>\n",
       "      <td>...</td>\n",
       "      <td>...</td>\n",
       "      <td>...</td>\n",
       "      <td>...</td>\n",
       "      <td>...</td>\n",
       "      <td>...</td>\n",
       "    </tr>\n",
       "    <tr>\n",
       "      <th>RGEALTI_2-0_1M_ASC_RGR92UTM40S-REUN89_D974_2016-03-11.7z</th>\n",
       "      <td>RGEALTI</td>\n",
       "      <td>2-0</td>\n",
       "      <td>1M</td>\n",
       "      <td>ASC</td>\n",
       "      <td>RGR92UTM40S-REUN89</td>\n",
       "      <td>D974</td>\n",
       "      <td>2016-03-11</td>\n",
       "    </tr>\n",
       "    <tr>\n",
       "      <th>RGEALTI_2-0_1M_ASC_RGSPM06U21-STPM50_D975_2017-03-27.7z</th>\n",
       "      <td>RGEALTI</td>\n",
       "      <td>2-0</td>\n",
       "      <td>1M</td>\n",
       "      <td>ASC</td>\n",
       "      <td>RGSPM06U21-STPM50</td>\n",
       "      <td>D975</td>\n",
       "      <td>2017-03-27</td>\n",
       "    </tr>\n",
       "    <tr>\n",
       "      <th>RGEALTI_2-0_1M_ASC_WGS84UTM20-GUAD88_D971_2014-01-15.7z</th>\n",
       "      <td>RGEALTI</td>\n",
       "      <td>2-0</td>\n",
       "      <td>1M</td>\n",
       "      <td>ASC</td>\n",
       "      <td>WGS84UTM20-GUAD88</td>\n",
       "      <td>D971</td>\n",
       "      <td>2014-01-15</td>\n",
       "    </tr>\n",
       "    <tr>\n",
       "      <th>RGEALTI_2-0_1M_ASC_WGS84UTM20-GUAD92LD_D971_2013-12-11.7z</th>\n",
       "      <td>RGEALTI</td>\n",
       "      <td>2-0</td>\n",
       "      <td>1M</td>\n",
       "      <td>ASC</td>\n",
       "      <td>WGS84UTM20-GUAD92LD</td>\n",
       "      <td>D971</td>\n",
       "      <td>2013-12-11</td>\n",
       "    </tr>\n",
       "    <tr>\n",
       "      <th>RGEALTI_2-0_1M_ASC_WGS84UTM20-MART87_D972_2015-10-21.7z</th>\n",
       "      <td>RGEALTI</td>\n",
       "      <td>2-0</td>\n",
       "      <td>1M</td>\n",
       "      <td>ASC</td>\n",
       "      <td>WGS84UTM20-MART87</td>\n",
       "      <td>D972</td>\n",
       "      <td>2015-10-21</td>\n",
       "    </tr>\n",
       "  </tbody>\n",
       "</table>\n",
       "<p>140 rows × 7 columns</p>\n",
       "</div>"
      ],
      "text/plain": [
       "                                                    dataset version res  \\\n",
       "name                                                                      \n",
       "RGEALTI_2-0_1M_ASC_LAMB93-IGN69_D001_2020-11-13.7z  RGEALTI     2-0  1M   \n",
       "RGEALTI_2-0_1M_ASC_LAMB93-IGN69_D002_2020-09-04.7z  RGEALTI     2-0  1M   \n",
       "RGEALTI_2-0_1M_ASC_LAMB93-IGN69_D003_2021-08-25.7z  RGEALTI     2-0  1M   \n",
       "RGEALTI_2-0_1M_ASC_LAMB93-IGN69_D004_2021-08-04...  RGEALTI     2-0  1M   \n",
       "RGEALTI_2-0_1M_ASC_LAMB93-IGN69_D004_2021-08-04...  RGEALTI     2-0  1M   \n",
       "...                                                     ...     ...  ..   \n",
       "RGEALTI_2-0_1M_ASC_RGR92UTM40S-REUN89_D974_2016...  RGEALTI     2-0  1M   \n",
       "RGEALTI_2-0_1M_ASC_RGSPM06U21-STPM50_D975_2017-...  RGEALTI     2-0  1M   \n",
       "RGEALTI_2-0_1M_ASC_WGS84UTM20-GUAD88_D971_2014-...  RGEALTI     2-0  1M   \n",
       "RGEALTI_2-0_1M_ASC_WGS84UTM20-GUAD92LD_D971_201...  RGEALTI     2-0  1M   \n",
       "RGEALTI_2-0_1M_ASC_WGS84UTM20-MART87_D972_2015-...  RGEALTI     2-0  1M   \n",
       "\n",
       "                                                   filetype  \\\n",
       "name                                                          \n",
       "RGEALTI_2-0_1M_ASC_LAMB93-IGN69_D001_2020-11-13.7z      ASC   \n",
       "RGEALTI_2-0_1M_ASC_LAMB93-IGN69_D002_2020-09-04.7z      ASC   \n",
       "RGEALTI_2-0_1M_ASC_LAMB93-IGN69_D003_2021-08-25.7z      ASC   \n",
       "RGEALTI_2-0_1M_ASC_LAMB93-IGN69_D004_2021-08-04...      ASC   \n",
       "RGEALTI_2-0_1M_ASC_LAMB93-IGN69_D004_2021-08-04...      ASC   \n",
       "...                                                     ...   \n",
       "RGEALTI_2-0_1M_ASC_RGR92UTM40S-REUN89_D974_2016...      ASC   \n",
       "RGEALTI_2-0_1M_ASC_RGSPM06U21-STPM50_D975_2017-...      ASC   \n",
       "RGEALTI_2-0_1M_ASC_WGS84UTM20-GUAD88_D971_2014-...      ASC   \n",
       "RGEALTI_2-0_1M_ASC_WGS84UTM20-GUAD92LD_D971_201...      ASC   \n",
       "RGEALTI_2-0_1M_ASC_WGS84UTM20-MART87_D972_2015-...      ASC   \n",
       "\n",
       "                                                                    crs   dep  \\\n",
       "name                                                                            \n",
       "RGEALTI_2-0_1M_ASC_LAMB93-IGN69_D001_2020-11-13.7z         LAMB93-IGN69  D001   \n",
       "RGEALTI_2-0_1M_ASC_LAMB93-IGN69_D002_2020-09-04.7z         LAMB93-IGN69  D002   \n",
       "RGEALTI_2-0_1M_ASC_LAMB93-IGN69_D003_2021-08-25.7z         LAMB93-IGN69  D003   \n",
       "RGEALTI_2-0_1M_ASC_LAMB93-IGN69_D004_2021-08-04...         LAMB93-IGN69  D004   \n",
       "RGEALTI_2-0_1M_ASC_LAMB93-IGN69_D004_2021-08-04...         LAMB93-IGN69  D004   \n",
       "...                                                                 ...   ...   \n",
       "RGEALTI_2-0_1M_ASC_RGR92UTM40S-REUN89_D974_2016...   RGR92UTM40S-REUN89  D974   \n",
       "RGEALTI_2-0_1M_ASC_RGSPM06U21-STPM50_D975_2017-...    RGSPM06U21-STPM50  D975   \n",
       "RGEALTI_2-0_1M_ASC_WGS84UTM20-GUAD88_D971_2014-...    WGS84UTM20-GUAD88  D971   \n",
       "RGEALTI_2-0_1M_ASC_WGS84UTM20-GUAD92LD_D971_201...  WGS84UTM20-GUAD92LD  D971   \n",
       "RGEALTI_2-0_1M_ASC_WGS84UTM20-MART87_D972_2015-...    WGS84UTM20-MART87  D972   \n",
       "\n",
       "                                                              date  \n",
       "name                                                                \n",
       "RGEALTI_2-0_1M_ASC_LAMB93-IGN69_D001_2020-11-13.7z      2020-11-13  \n",
       "RGEALTI_2-0_1M_ASC_LAMB93-IGN69_D002_2020-09-04.7z      2020-09-04  \n",
       "RGEALTI_2-0_1M_ASC_LAMB93-IGN69_D003_2021-08-25.7z      2021-08-25  \n",
       "RGEALTI_2-0_1M_ASC_LAMB93-IGN69_D004_2021-08-04...  2021-08-04.7z.  \n",
       "RGEALTI_2-0_1M_ASC_LAMB93-IGN69_D004_2021-08-04...  2021-08-04.7z.  \n",
       "...                                                            ...  \n",
       "RGEALTI_2-0_1M_ASC_RGR92UTM40S-REUN89_D974_2016...      2016-03-11  \n",
       "RGEALTI_2-0_1M_ASC_RGSPM06U21-STPM50_D975_2017-...      2017-03-27  \n",
       "RGEALTI_2-0_1M_ASC_WGS84UTM20-GUAD88_D971_2014-...      2014-01-15  \n",
       "RGEALTI_2-0_1M_ASC_WGS84UTM20-GUAD92LD_D971_201...      2013-12-11  \n",
       "RGEALTI_2-0_1M_ASC_WGS84UTM20-MART87_D972_2015-...      2015-10-21  \n",
       "\n",
       "[140 rows x 7 columns]"
      ]
     },
     "execution_count": 3,
     "metadata": {},
     "output_type": "execute_result"
    }
   ],
   "source": [
    "# Create a pandas.df to store the list of available files.\n",
    "df = pd.DataFrame(data=ftp_h.list_files(), columns=[\"name\"])\n",
    "\n",
    "# Rearrange the content of the pandas df.\n",
    "df = pd.concat([df, df[\"name\"].str.split(\"_\", expand=True)], axis=1)\n",
    "df = df.rename(columns = {\n",
    "    0:\"dataset\", 1:\"version\", 2:\"res\", 3:\"filetype\", 4:\"crs\", \n",
    "    5:\"dep\", 6:\"date\"})\n",
    "\n",
    "# Loc the dataset of interest RGE Alti 5m.\n",
    "df = df.loc[(df.dataset == \"RGEALTI\") & (df.res == \"1M\")]\n",
    "\n",
    "# Clean the date and set the name as index.\n",
    "df['date'] = df['date'].apply(lambda x:x[:-3])\n",
    "df = df.set_index(\"name\")\n",
    "\n",
    "df"
   ]
  },
  {
   "cell_type": "code",
   "execution_count": 4,
   "metadata": {},
   "outputs": [],
   "source": [
    "ROI = 'Auvergne-Rhône-Alpes'\n",
    "\n",
    "deps_of_interest = REGIONS[ROI]\n",
    "deps_of_interest = [\"D0\"+dn for dn in deps_of_interest]\n",
    "\n",
    "# Loc lines of interest in the pandas.df.\n",
    "dfi = df.loc[df.dep.isin(deps_of_interest)]\n",
    "filenames = dfi.index.to_list()"
   ]
  },
  {
   "cell_type": "code",
   "execution_count": 5,
   "metadata": {},
   "outputs": [
    {
     "name": "stdout",
     "output_type": "stream",
     "text": [
      "RGEALTI_2-0_1M_ASC_LAMB93-IGN69_D001_2020-11-13.7z already downloaded\n",
      "RGEALTI_2-0_1M_ASC_LAMB93-IGN69_D003_2021-08-25.7z already downloaded\n",
      "RGEALTI_2-0_1M_ASC_LAMB93-IGN69_D007_2021-11-02.7z already downloaded\n"
     ]
    },
    {
     "data": {
      "application/vnd.jupyter.widget-view+json": {
       "model_id": "dd176cacc74f42a5852afe7a0da56940",
       "version_major": 2,
       "version_minor": 0
      },
      "text/plain": [
       "  0%|          | 0.00/5.96G [00:00<?, ?B/s]"
      ]
     },
     "metadata": {},
     "output_type": "display_data"
    },
    {
     "name": "stdout",
     "output_type": "stream",
     "text": [
      "RGEALTI_2-0_1M_ASC_LAMB93-IGN69_D015_2019-12-10.7z is downloaded.\n"
     ]
    },
    {
     "data": {
      "application/vnd.jupyter.widget-view+json": {
       "model_id": "95d3fdb6cbd343358cd25ce37381b4a2",
       "version_major": 2,
       "version_minor": 0
      },
      "text/plain": [
       "  0%|          | 0.00/5.26G [00:00<?, ?B/s]"
      ]
     },
     "metadata": {},
     "output_type": "display_data"
    },
    {
     "name": "stdout",
     "output_type": "stream",
     "text": [
      "RGEALTI_2-0_1M_ASC_LAMB93-IGN69_D026_2021-11-02.7z is downloaded.\n"
     ]
    },
    {
     "data": {
      "application/vnd.jupyter.widget-view+json": {
       "model_id": "248065e3d0f940cab0b5e84df2646c38",
       "version_major": 2,
       "version_minor": 0
      },
      "text/plain": [
       "  0%|          | 0.00/6.00G [00:00<?, ?B/s]"
      ]
     },
     "metadata": {},
     "output_type": "display_data"
    },
    {
     "name": "stdout",
     "output_type": "stream",
     "text": [
      "RGEALTI_2-0_1M_ASC_LAMB93-IGN69_D038_2020-11-13.7z.001 is downloaded.\n"
     ]
    },
    {
     "data": {
      "application/vnd.jupyter.widget-view+json": {
       "model_id": "bae4abe363174a2bb2bc2eeb87a670de",
       "version_major": 2,
       "version_minor": 0
      },
      "text/plain": [
       "  0%|          | 0.00/366M [00:00<?, ?B/s]"
      ]
     },
     "metadata": {},
     "output_type": "display_data"
    },
    {
     "name": "stdout",
     "output_type": "stream",
     "text": [
      "RGEALTI_2-0_1M_ASC_LAMB93-IGN69_D038_2020-11-13.7z.002 is downloaded.\n"
     ]
    },
    {
     "data": {
      "application/vnd.jupyter.widget-view+json": {
       "model_id": "1c1394d7b2ce4f29b9d91ce6ee092433",
       "version_major": 2,
       "version_minor": 0
      },
      "text/plain": [
       "  0%|          | 0.00/4.07G [00:00<?, ?B/s]"
      ]
     },
     "metadata": {},
     "output_type": "display_data"
    },
    {
     "name": "stdout",
     "output_type": "stream",
     "text": [
      "RGEALTI_2-0_1M_ASC_LAMB93-IGN69_D042_2021-01-22.7z is downloaded.\n"
     ]
    },
    {
     "data": {
      "application/vnd.jupyter.widget-view+json": {
       "model_id": "709a1343b5fe495baa04e8ea5bb60d7d",
       "version_major": 2,
       "version_minor": 0
      },
      "text/plain": [
       "  0%|          | 0.00/5.61G [00:00<?, ?B/s]"
      ]
     },
     "metadata": {},
     "output_type": "display_data"
    },
    {
     "name": "stdout",
     "output_type": "stream",
     "text": [
      "RGEALTI_2-0_1M_ASC_LAMB93-IGN69_D043_2020-01-06.7z is downloaded.\n"
     ]
    },
    {
     "data": {
      "application/vnd.jupyter.widget-view+json": {
       "model_id": "4b95daa7109247d393f9caf24c2e9809",
       "version_major": 2,
       "version_minor": 0
      },
      "text/plain": [
       "  0%|          | 0.00/5.48G [00:00<?, ?B/s]"
      ]
     },
     "metadata": {},
     "output_type": "display_data"
    },
    {
     "name": "stdout",
     "output_type": "stream",
     "text": [
      "RGEALTI_2-0_1M_ASC_LAMB93-IGN69_D063_2021-01-22.7z is downloaded.\n"
     ]
    },
    {
     "data": {
      "application/vnd.jupyter.widget-view+json": {
       "model_id": "4f45c32bea684e20be73344798ac500c",
       "version_major": 2,
       "version_minor": 0
      },
      "text/plain": [
       "  0%|          | 0.00/2.36G [00:00<?, ?B/s]"
      ]
     },
     "metadata": {},
     "output_type": "display_data"
    },
    {
     "name": "stdout",
     "output_type": "stream",
     "text": [
      "RGEALTI_2-0_1M_ASC_LAMB93-IGN69_D069_2020-11-13.7z is downloaded.\n"
     ]
    },
    {
     "data": {
      "application/vnd.jupyter.widget-view+json": {
       "model_id": "c374b4ea8faf4707a7c619ab19c1057d",
       "version_major": 2,
       "version_minor": 0
      },
      "text/plain": [
       "  0%|          | 0.00/6.00G [00:00<?, ?B/s]"
      ]
     },
     "metadata": {},
     "output_type": "display_data"
    },
    {
     "name": "stdout",
     "output_type": "stream",
     "text": [
      "RGEALTI_2-0_1M_ASC_LAMB93-IGN69_D073_2020-10-15.7z.001 is downloaded.\n"
     ]
    },
    {
     "data": {
      "application/vnd.jupyter.widget-view+json": {
       "model_id": "695b779a6640483dba9b6235990c3a93",
       "version_major": 2,
       "version_minor": 0
      },
      "text/plain": [
       "  0%|          | 0.00/721M [00:00<?, ?B/s]"
      ]
     },
     "metadata": {},
     "output_type": "display_data"
    },
    {
     "name": "stdout",
     "output_type": "stream",
     "text": [
      "RGEALTI_2-0_1M_ASC_LAMB93-IGN69_D073_2020-10-15.7z.002 is downloaded.\n"
     ]
    },
    {
     "data": {
      "application/vnd.jupyter.widget-view+json": {
       "model_id": "26cc854cc6224595a1d94a932080bb44",
       "version_major": 2,
       "version_minor": 0
      },
      "text/plain": [
       "  0%|          | 0.00/4.67G [00:00<?, ?B/s]"
      ]
     },
     "metadata": {},
     "output_type": "display_data"
    },
    {
     "name": "stdout",
     "output_type": "stream",
     "text": [
      "RGEALTI_2-0_1M_ASC_LAMB93-IGN69_D074_2020-10-15.7z is downloaded.\n"
     ]
    }
   ],
   "source": [
    "for num, filename in enumerate(filenames):\n",
    "    if filename in os.listdir(TEMP_ZIP):\n",
    "        print(filename, \"already downloaded\")\n",
    "    else:\n",
    "        ftp_h.download_file(filename, TEMP_ZIP)"
   ]
  },
  {
   "cell_type": "code",
   "execution_count": null,
   "metadata": {},
   "outputs": [],
   "source": [
    "    extract_rge5m(filename)\n",
    "    asc_paths_list = get_path_asc_paths(filename)\n",
    "    result_path = os.path.join(DATAPATH, \"result\")\n",
    "    mosaic_name = f\"mymosaic_{ROI}_{num+1}.tif\"\n",
    "    mosaic_path = create_rge_mosaic(asc_paths_list, result_path, mosaic_name, 2154)"
   ]
  }
 ],
 "metadata": {
  "kernelspec": {
   "display_name": "venv-rge",
   "language": "python",
   "name": "venv-rge"
  },
  "language_info": {
   "codemirror_mode": {
    "name": "ipython",
    "version": 3
   },
   "file_extension": ".py",
   "mimetype": "text/x-python",
   "name": "python",
   "nbconvert_exporter": "python",
   "pygments_lexer": "ipython3",
   "version": "3.9.13"
  },
  "orig_nbformat": 4
 },
 "nbformat": 4,
 "nbformat_minor": 2
}
